{
 "cells": [
  {
   "cell_type": "markdown",
   "metadata": {},
   "source": [
    "# Topic\n",
    "Python3"
   ]
  },
  {
   "cell_type": "markdown",
   "metadata": {},
   "source": [
    "# Intuition\n",
    "\n",
    "# Approach\n",
    "\n",
    "# Complexity\n",
    "- Time complexity:\n",
    "$$O(n)$$\n",
    "\n",
    "- Space complexity:\n",
    "$$O(n)$$\n",
    "\n",
    "# Code\n",
    "```python\n",
    "\n",
    "```"
   ]
  }
 ],
 "metadata": {
  "language_info": {
   "name": "python"
  },
  "orig_nbformat": 4
 },
 "nbformat": 4,
 "nbformat_minor": 2
}
