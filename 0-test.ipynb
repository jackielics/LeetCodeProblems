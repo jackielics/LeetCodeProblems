{
 "cells": [
  {
   "cell_type": "code",
   "execution_count": null,
   "metadata": {},
   "outputs": [
    {
     "data": {
      "text/plain": [
       "1"
      ]
     },
     "execution_count": 8,
     "metadata": {},
     "output_type": "execute_result"
    }
   ],
   "source": [
    "def numDecodings(s: str) -> int:\n",
    "    if s[0] == '0':\n",
    "        return 0\n",
    "    elif len(s) == 1:\n",
    "        return 1\n",
    "\n",
    "    dp = [0] * (len(s) + 1)\n",
    "    dp[0] = dp[1] = 1\n",
    "    # dp[1] = \n",
    "    for i in range(2, len(s)+1):\n",
    "        # + dp[i-2]\n",
    "        if 10 <= int(s[i - 2] + s[i-1]) <= 26:\n",
    "            dp[i] += dp[i-2]\n",
    "        if int(s[i - 1]) != 0:\n",
    "            dp[i] += dp[i-1]\n",
    "        else:\n",
    "            return 0\n",
    "        # + dp[i-1]\n",
    "    return dp[-1]\n",
    "\n",
    "numDecodings(\"12\")\n"
   ]
  },
  {
   "cell_type": "code",
   "execution_count": null,
   "metadata": {},
   "outputs": [],
   "source": []
  }
 ],
 "metadata": {
  "kernelspec": {
   "display_name": "Python 3",
   "language": "python",
   "name": "python3"
  },
  "language_info": {
   "codemirror_mode": {
    "name": "ipython",
    "version": 3
   },
   "file_extension": ".py",
   "mimetype": "text/x-python",
   "name": "python",
   "nbconvert_exporter": "python",
   "pygments_lexer": "ipython3",
   "version": "3.13.5"
  },
  "orig_nbformat": 4
 },
 "nbformat": 4,
 "nbformat_minor": 2
}
