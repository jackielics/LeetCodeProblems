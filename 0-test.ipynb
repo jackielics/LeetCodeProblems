{
 "cells": [
  {
   "cell_type": "code",
   "execution_count": 9,
   "metadata": {},
   "outputs": [
    {
     "data": {
      "text/plain": [
       "6"
      ]
     },
     "execution_count": 9,
     "metadata": {},
     "output_type": "execute_result"
    }
   ],
   "source": [
    "nums = [2,3,-2,4]\n",
    "# nums = [-2,0,-1]\n",
    "resMax = float('-inf') \n",
    "curMax = curMin = 1\n",
    "\n",
    "for v in nums:\n",
    "\ttmp = curMax * v\n",
    "\tcurMax, curMin = max(curMin * v, curMax * v, v), min(curMin * v, curMax * v, v)\n",
    "\tresMax = max(resMax, curMax)\n",
    "resMax"
   ]
  },
  {
   "cell_type": "code",
   "execution_count": 11,
   "metadata": {},
   "outputs": [
    {
     "data": {
      "text/plain": [
       "[True, False, False, True, True, False, False, True, False, False]"
      ]
     },
     "execution_count": 11,
     "metadata": {},
     "output_type": "execute_result"
    }
   ],
   "source": [
    "s = \"catsandog\"\n",
    "wordDict = [\"cats\", \"dog\", \"sand\", \"and\", \"cat\"]\n",
    "dp = [False] * (len(s) + 1) # if current matches?\n",
    "dp[0] = True # initial stutas\n",
    "for i in range(1, len(s) + 1): # start from 1 to len(s)\n",
    "\tfor w in wordDict:\n",
    "\t\tif len(w) <= i: # compare length\n",
    "\t\t\tdp[i] = dp[i - len(w)] and s[i - len(w) : i] == w\n",
    "\t\tif dp[i]: # matched\n",
    "\t\t\tbreak\n",
    "dp"
   ]
  },
  {
   "cell_type": "code",
   "execution_count": null,
   "metadata": {},
   "outputs": [],
   "source": []
  }
 ],
 "metadata": {
  "kernelspec": {
   "display_name": "Python 3",
   "language": "python",
   "name": "python3"
  },
  "language_info": {
   "codemirror_mode": {
    "name": "ipython",
    "version": 3
   },
   "file_extension": ".py",
   "mimetype": "text/x-python",
   "name": "python",
   "nbconvert_exporter": "python",
   "pygments_lexer": "ipython3",
   "version": "3.11.4"
  },
  "orig_nbformat": 4
 },
 "nbformat": 4,
 "nbformat_minor": 2
}
