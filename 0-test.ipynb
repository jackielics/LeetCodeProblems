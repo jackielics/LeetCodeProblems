{
 "cells": [
  {
   "cell_type": "code",
   "execution_count": 9,
   "metadata": {},
   "outputs": [
    {
     "data": {
      "text/plain": [
       "[0, 1]"
      ]
     },
     "execution_count": 9,
     "metadata": {},
     "output_type": "execute_result"
    }
   ],
   "source": [
    "import collections\n",
    "preMap = collections.defaultdict(list)\n",
    "\n",
    "def findOrder(numCourses, prerequisites):\n",
    "    visited = set()\n",
    "    res = []\n",
    "\n",
    "    # initial\n",
    "    preMap = collections.defaultdict(list)\n",
    "    for x in prerequisites:\n",
    "        preMap[x[0]].append(x[1])\n",
    "\n",
    "\n",
    "    def dfs(cur):\n",
    "        if cur in visited: # repeat\n",
    "            return False\n",
    "\n",
    "        visited.add(cur)\n",
    "        for x in preMap[cur]:\n",
    "            if not dfs(x):\n",
    "                return False\n",
    "        visited.remove(cur)\n",
    "\n",
    "        preMap.pop(cur) # already reached\n",
    "        if cur not in res:\n",
    "            res.append(cur)\n",
    "        return True\n",
    "    \n",
    "    for x in range(numCourses):\n",
    "        if not dfs(x):\n",
    "            return []\n",
    "    return res\n",
    "\n",
    "\n",
    "# findOrder(numCourses = 4, prerequisites = [[1,0],[2,0],[3,1],[3,2]])\n",
    "findOrder(numCourses = 2, prerequisites = [[1,0]])"
   ]
  },
  {
   "cell_type": "code",
   "execution_count": null,
   "metadata": {},
   "outputs": [],
   "source": []
  }
 ],
 "metadata": {
  "kernelspec": {
   "display_name": "Python 3",
   "language": "python",
   "name": "python3"
  },
  "language_info": {
   "codemirror_mode": {
    "name": "ipython",
    "version": 3
   },
   "file_extension": ".py",
   "mimetype": "text/x-python",
   "name": "python",
   "nbconvert_exporter": "python",
   "pygments_lexer": "ipython3",
   "version": "3.13.5"
  },
  "orig_nbformat": 4
 },
 "nbformat": 4,
 "nbformat_minor": 2
}
