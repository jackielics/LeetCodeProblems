{
 "cells": [
  {
   "cell_type": "code",
   "execution_count": 2,
   "metadata": {},
   "outputs": [
    {
     "data": {
      "text/plain": [
       "[0, 1, 2, 3, 4]"
      ]
     },
     "execution_count": 2,
     "metadata": {},
     "output_type": "execute_result"
    }
   ],
   "source": [
    "[x for x in range(5)]"
   ]
  },
  {
   "cell_type": "code",
   "execution_count": 5,
   "metadata": {},
   "outputs": [
    {
     "data": {
      "text/plain": [
       "1"
      ]
     },
     "execution_count": 5,
     "metadata": {},
     "output_type": "execute_result"
    }
   ],
   "source": [
    "grid = [\n",
    "\t[\"1\",\"1\",\"0\",\"0\",\"0\"],\n",
    "\t[\"1\",\"1\",\"0\",\"0\",\"0\"],\n",
    "\t[\"0\",\"0\",\"1\",\"0\",\"0\"],\n",
    "\t[\"0\",\"0\",\"0\",\"1\",\"1\"]\n",
    "]\n",
    "\n",
    "grid = [\n",
    "\t[\"1\",\"1\",\"1\",\"1\",\"0\"],\n",
    "\t[\"1\",\"1\",\"0\",\"1\",\"0\"],\n",
    "\t[\"1\",\"1\",\"0\",\"0\",\"0\"],\n",
    "\t[\"0\",\"0\",\"0\",\"0\",\"0\"]\n",
    "]\n",
    "\n",
    "res = 0 # Num of Islands\n",
    "R, C = len(grid), len(grid[0])\n",
    "visited = set() # {(i, j)}\n",
    "\n",
    "def dfs(i, j):\n",
    "\t# out-of-bounds || '0' || visited\n",
    "\tif not (-1 < i < R and -1 < j < C) or \\\n",
    "\t\tgrid[i][j] == '0' or \\\n",
    "\t\t(i, j) in visited:\n",
    "\t\treturn \n",
    "\t\n",
    "\tfor x, y in ((1, 0), (-1, 0), (0, 1), (0, -1)):\n",
    "\t\tvisited.add((i, j))\n",
    "\t\tdfs(i + x, j + y)\n",
    "\t...\n",
    "\n",
    "\n",
    "for i in range(R):\n",
    "\tfor j in range(C):\n",
    "\t\tif grid[i][j] == '1' and (i, j) not in visited:\n",
    "\t\t\tres += 1\n",
    "\t\t\tdfs(i, j)\n",
    "\n",
    "res"
   ]
  },
  {
   "cell_type": "code",
   "execution_count": 2,
   "metadata": {},
   "outputs": [
    {
     "data": {
      "text/plain": [
       "[-2, -3]"
      ]
     },
     "execution_count": 2,
     "metadata": {},
     "output_type": "execute_result"
    }
   ],
   "source": [
    "max([], [-2,-3])"
   ]
  },
  {
   "cell_type": "code",
   "execution_count": null,
   "metadata": {},
   "outputs": [],
   "source": []
  }
 ],
 "metadata": {
  "kernelspec": {
   "display_name": "Python 3",
   "language": "python",
   "name": "python3"
  },
  "language_info": {
   "codemirror_mode": {
    "name": "ipython",
    "version": 3
   },
   "file_extension": ".py",
   "mimetype": "text/x-python",
   "name": "python",
   "nbconvert_exporter": "python",
   "pygments_lexer": "ipython3",
   "version": "3.12.0"
  },
  "orig_nbformat": 4
 },
 "nbformat": 4,
 "nbformat_minor": 2
}
