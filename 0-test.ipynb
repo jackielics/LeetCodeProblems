{
 "cells": [
  {
   "cell_type": "code",
   "execution_count": 1,
   "metadata": {},
   "outputs": [
    {
     "data": {
      "text/plain": [
       "[2]"
      ]
     },
     "execution_count": 1,
     "metadata": {},
     "output_type": "execute_result"
    }
   ],
   "source": [
    "a = [1,2,3]\n",
    "a[1:2]"
   ]
  },
  {
   "cell_type": "code",
   "execution_count": 12,
   "metadata": {},
   "outputs": [
    {
     "data": {
      "text/plain": [
       "2"
      ]
     },
     "execution_count": 12,
     "metadata": {},
     "output_type": "execute_result"
    }
   ],
   "source": [
    "heights = [1,1]\n",
    "monoStack = []\n",
    "maxArea = 0\n",
    "i = 0\n",
    "\n",
    "while i < len(heights):\n",
    "\tif not monoStack or heights[i] > monoStack[-1][1]: # just add it\n",
    "\t\tmonoStack.append([i, heights[i]])\n",
    "\t\ti += 1\n",
    "\telif heights[i] == monoStack[-1][1]:\n",
    "\t\tmonoStack.append([i, heights[i]])\n",
    "\t\ti += 1 # same, skip\n",
    "\telse: # pop all elements less than heights[i]\n",
    "\t\tpop_list = [] # 本次将要从monoStack中pop出的元素\n",
    "\t\twhile monoStack and monoStack[-1][1] >= heights[i]: # mono非空ignore the same?\n",
    "\t\t\ttmp = monoStack.pop()\n",
    "\t\t\tpop_list.append(tmp) # 大的在前\n",
    "\t\t\tw = pop_list[0][0] - pop_list[-1][0] + 1\n",
    "\t\t\th = min(pop_list[-1][1], pop_list[0][1])\n",
    "\t\t\tmaxArea = max(maxArea, w * h)\n",
    "\t\tmonoStack.append([tmp[0], heights[i]]) # 往左扩展过的索引\n",
    "\n",
    "i = len(monoStack) - 1\n",
    "while i >= 0:\n",
    "\tw = monoStack[-1][0] - monoStack[i][0] + 1\n",
    "\th = min(monoStack[-1][1], monoStack[i][1])\n",
    "\tmaxArea = max(maxArea, w * h)\n",
    "\ti -= 1\n",
    "\t\t\n",
    "maxArea"
   ]
  },
  {
   "cell_type": "code",
   "execution_count": 13,
   "metadata": {},
   "outputs": [
    {
     "ename": "IndexError",
     "evalue": "list index out of range",
     "output_type": "error",
     "traceback": [
      "\u001b[1;31m---------------------------------------------------------------------------\u001b[0m",
      "\u001b[1;31mIndexError\u001b[0m                                Traceback (most recent call last)",
      "\u001b[1;32md:\\Codes\\LeetCode_In_VS\\0-test.ipynb 单元格 3\u001b[0m in \u001b[0;36m<cell line: 2>\u001b[1;34m()\u001b[0m\n\u001b[0;32m      <a href='vscode-notebook-cell:/d%3A/Codes/LeetCode_In_VS/0-test.ipynb#W6sZmlsZQ%3D%3D?line=0'>1</a>\u001b[0m a \u001b[39m=\u001b[39m [\u001b[39m1\u001b[39m,\u001b[39m2\u001b[39m]\n\u001b[1;32m----> <a href='vscode-notebook-cell:/d%3A/Codes/LeetCode_In_VS/0-test.ipynb#W6sZmlsZQ%3D%3D?line=1'>2</a>\u001b[0m \u001b[39mif\u001b[39;00m \u001b[39mnot\u001b[39;00m a[\u001b[39m3\u001b[39m]:\n\u001b[0;32m      <a href='vscode-notebook-cell:/d%3A/Codes/LeetCode_In_VS/0-test.ipynb#W6sZmlsZQ%3D%3D?line=2'>3</a>\u001b[0m     \u001b[39mprint\u001b[39m(\u001b[39m'\u001b[39m\u001b[39m1\u001b[39m\u001b[39m'\u001b[39m)\n",
      "\u001b[1;31mIndexError\u001b[0m: list index out of range"
     ]
    }
   ],
   "source": [
    "a = [1,2]\n",
    "if not a[3]:\n",
    "    print('1')"
   ]
  },
  {
   "cell_type": "code",
   "execution_count": 26,
   "metadata": {},
   "outputs": [
    {
     "data": {
      "text/plain": [
       "9"
      ]
     },
     "execution_count": 26,
     "metadata": {},
     "output_type": "execute_result"
    }
   ],
   "source": [
    "heights = [1,2,3,4,5,0]\n",
    "\n",
    "stack = [-1]\n",
    "area = 0\n",
    "heights.append(0)\n",
    "for i in range(len(heights)):\n",
    "\twhile heights[i] < heights[stack[-1]]:\n",
    "\t\th = heights[stack.pop()]\n",
    "\t\tarea = max(area, h * (i - stack[-1] - 1))\n",
    "\tstack.append(i)\n",
    "# heights.pop()/\n",
    "area"
   ]
  },
  {
   "cell_type": "code",
   "execution_count": null,
   "metadata": {},
   "outputs": [],
   "source": []
  }
 ],
 "metadata": {
  "kernelspec": {
   "display_name": "Python 3",
   "language": "python",
   "name": "python3"
  },
  "language_info": {
   "codemirror_mode": {
    "name": "ipython",
    "version": 3
   },
   "file_extension": ".py",
   "mimetype": "text/x-python",
   "name": "python",
   "nbconvert_exporter": "python",
   "pygments_lexer": "ipython3",
   "version": "3.8.10"
  },
  "orig_nbformat": 4
 },
 "nbformat": 4,
 "nbformat_minor": 2
}
