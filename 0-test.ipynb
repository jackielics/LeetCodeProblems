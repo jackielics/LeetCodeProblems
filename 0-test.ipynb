{
 "cells": [
  {
   "cell_type": "code",
   "execution_count": 66,
   "metadata": {},
   "outputs": [
    {
     "name": "stdout",
     "output_type": "stream",
     "text": [
      "2\n"
     ]
    }
   ],
   "source": [
    "import heapq\n",
    "\n",
    "stones = [1,3]\n",
    "neg_stones = [-x for x in stones]\n",
    "heapq.heapify(neg_stones)\n",
    "# neg_stones\n",
    "while neg_stones and len(neg_stones) > 1:\n",
    "\tnum1, num2 = heapq.heappop(neg_stones), heapq.heappop(neg_stones)\n",
    "\tif (diff := abs(num1 - num2)): # if Diff != 0, push new elem\n",
    "\t\theapq.heappush(neg_stones, -diff)\n",
    "if not neg_stones:\n",
    "\tprint(0)\n",
    "else:\n",
    "\tprint(-neg_stones[0])"
   ]
  },
  {
   "cell_type": "code",
   "execution_count": null,
   "metadata": {},
   "outputs": [],
   "source": []
  }
 ],
 "metadata": {
  "kernelspec": {
   "display_name": "Python 3",
   "language": "python",
   "name": "python3"
  },
  "language_info": {
   "codemirror_mode": {
    "name": "ipython",
    "version": 3
   },
   "file_extension": ".py",
   "mimetype": "text/x-python",
   "name": "python",
   "nbconvert_exporter": "python",
   "pygments_lexer": "ipython3",
   "version": "3.11.4"
  },
  "orig_nbformat": 4
 },
 "nbformat": 4,
 "nbformat_minor": 2
}
