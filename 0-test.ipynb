{
 "cells": [
  {
   "cell_type": "code",
   "execution_count": 4,
   "metadata": {},
   "outputs": [
    {
     "data": {
      "text/plain": [
       "'aba'"
      ]
     },
     "execution_count": 4,
     "metadata": {},
     "output_type": "execute_result"
    }
   ],
   "source": [
    "s = \"babad\"\n",
    "\n",
    "palin_matrix = [[True] * len(s) for _ in range(len(s))]\n",
    "res = \"\"\n",
    "\n",
    "for i in range(len(s)-1, -1, -1):\n",
    "    for j in range(i + 1, len(s)):\n",
    "        if j-i == 1:\n",
    "            palin_matrix[i][j] = (s[i] == s[j])\n",
    "        elif j-i >= 2:\n",
    "            palin_matrix[i][j] = (s[i] == s[j]) and palin_matrix[i+1][j-1]\n",
    "\n",
    "        if palin_matrix[i][j] and len(s[i:j+1]) > len(res):\n",
    "            res = s[i:j+1]\n",
    "\n",
    "# palin_matrix\n",
    "res"
   ]
  },
  {
   "cell_type": "code",
   "execution_count": null,
   "metadata": {},
   "outputs": [],
   "source": []
  }
 ],
 "metadata": {
  "kernelspec": {
   "display_name": "Python 3",
   "language": "python",
   "name": "python3"
  },
  "language_info": {
   "codemirror_mode": {
    "name": "ipython",
    "version": 3
   },
   "file_extension": ".py",
   "mimetype": "text/x-python",
   "name": "python",
   "nbconvert_exporter": "python",
   "pygments_lexer": "ipython3",
   "version": "3.13.5"
  },
  "orig_nbformat": 4
 },
 "nbformat": 4,
 "nbformat_minor": 2
}
