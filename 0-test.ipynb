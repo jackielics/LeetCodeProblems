{
 "cells": [
  {
   "cell_type": "code",
   "execution_count": null,
   "metadata": {},
   "outputs": [
    {
     "data": {
      "text/plain": [
       "4"
      ]
     },
     "execution_count": 9,
     "metadata": {},
     "output_type": "execute_result"
    }
   ],
   "source": [
    "def orangesRotting(grid) -> int:\n",
    "    ROWS, COLS = len(grid), len(grid[0])\n",
    "    rotted = []\n",
    "    fresh = 0\n",
    "    minute = 0\n",
    "    for i in range(ROWS):\n",
    "        for j in range(COLS):\n",
    "            if grid[i][j] == 2:\n",
    "                rotted.append((i, j))\n",
    "            elif grid[i][j] == 1:\n",
    "                fresh += 1\n",
    "\n",
    "    directions = ((0, 1), (0, -1), (1, 0), (-1, 0))\n",
    "\n",
    "    while fresh > 0 and rotted:\n",
    "        for _ in range(len(rotted)):\n",
    "            i, j = rotted.pop(0)\n",
    "            for x, y in directions:\n",
    "                i1, j1 = i + x, j + y\n",
    "                if i1 in range(ROWS) and j1 in range(COLS) and grid[i1][j1] == 1:\n",
    "                    grid[i1][j1] = 2\n",
    "                    rotted.append((i1, j1))\n",
    "                    fresh -= 1\n",
    "        minute += 1\n",
    "    \n",
    "    return minute if fresh == 0 else -1\n",
    "\n",
    "\n",
    "orangesRotting([[2,1,1],[1,1,0],[0,1,1]])"
   ]
  },
  {
   "cell_type": "code",
   "execution_count": null,
   "metadata": {},
   "outputs": [],
   "source": []
  }
 ],
 "metadata": {
  "kernelspec": {
   "display_name": "Python 3",
   "language": "python",
   "name": "python3"
  },
  "language_info": {
   "codemirror_mode": {
    "name": "ipython",
    "version": 3
   },
   "file_extension": ".py",
   "mimetype": "text/x-python",
   "name": "python",
   "nbconvert_exporter": "python",
   "pygments_lexer": "ipython3",
   "version": "3.13.5"
  },
  "orig_nbformat": 4
 },
 "nbformat": 4,
 "nbformat_minor": 2
}
