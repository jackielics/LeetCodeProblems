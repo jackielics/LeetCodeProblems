{
 "cells": [
  {
   "cell_type": "code",
   "execution_count": 5,
   "metadata": {},
   "outputs": [
    {
     "data": {
      "text/plain": [
       "0"
      ]
     },
     "execution_count": 5,
     "metadata": {},
     "output_type": "execute_result"
    }
   ],
   "source": [
    "def maxAreaOfIsland(grid) -> int:\n",
    "    '''DFS Recursion'''\n",
    "    res = 0 # area size\n",
    "    R, C = len(grid), len(grid[0])\n",
    "    visited = set() # {(i, j)}\n",
    "\n",
    "    def dfs(i, j):\n",
    "        # out-of-bounds || '0' || visited\n",
    "        if not (-1 < i < R and -1 < j < C) or \\\n",
    "            grid[i][j] == '0' or \\\n",
    "            (i, j) in visited:\n",
    "            return 0\n",
    "        visited.add((i, j))\n",
    "        # Not Just Visit\n",
    "        return (1 + dfs(i+1, j) + dfs(i-1, j) + dfs(i, j-1) + dfs(i, j+1))\n",
    "\n",
    "    for i in range(R):\n",
    "        for j in range(C):\n",
    "            if grid[i][j] == '1' and (i, j) not in visited:\n",
    "                res = max(res, dfs(i, j))\n",
    "    \n",
    "    return res\n",
    "\n",
    "\n",
    "maxAreaOfIsland([[0,0,1,0,0,0,0,1,0,0,0,0,0],[0,0,0,0,0,0,0,1,1,1,0,0,0],[0,1,1,0,1,0,0,0,0,0,0,0,0],[0,1,0,0,1,1,0,0,1,0,1,0,0],[0,1,0,0,1,1,0,0,1,1,1,0,0],[0,0,0,0,0,0,0,0,0,0,1,0,0],[0,0,0,0,0,0,0,1,1,1,0,0,0],[0,0,0,0,0,0,0,1,1,0,0,0,0]])\n",
    "\n"
   ]
  },
  {
   "cell_type": "code",
   "execution_count": null,
   "metadata": {},
   "outputs": [],
   "source": []
  }
 ],
 "metadata": {
  "kernelspec": {
   "display_name": "Python 3",
   "language": "python",
   "name": "python3"
  },
  "language_info": {
   "codemirror_mode": {
    "name": "ipython",
    "version": 3
   },
   "file_extension": ".py",
   "mimetype": "text/x-python",
   "name": "python",
   "nbconvert_exporter": "python",
   "pygments_lexer": "ipython3",
   "version": "3.13.5"
  },
  "orig_nbformat": 4
 },
 "nbformat": 4,
 "nbformat_minor": 2
}
