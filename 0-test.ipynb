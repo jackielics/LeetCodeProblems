{
 "cells": [
  {
   "cell_type": "code",
   "execution_count": 4,
   "metadata": {},
   "outputs": [
    {
     "data": {
      "text/plain": [
       "[[0, 0, 0, 0, 0],\n",
       " [0, 0, 0, 0, 0],\n",
       " [0, 0, 0, 0, 0],\n",
       " [0, 0, 0, 0, 0],\n",
       " [0, 0, 0, 0, 0],\n",
       " [0, 0, 0, 0, 0],\n",
       " [0, 0, 0, 0, 0],\n",
       " [0, 0, 0, 0, 0],\n",
       " [0, 0, 0, 0, 0],\n",
       " [0, 0, 0, 0, 0]]"
      ]
     },
     "execution_count": 4,
     "metadata": {},
     "output_type": "execute_result"
    }
   ],
   "source": [
    "[[0] * 5 for _ in range(10)]"
   ]
  },
  {
   "cell_type": "code",
   "execution_count": 26,
   "metadata": {},
   "outputs": [
    {
     "data": {
      "text/plain": [
       "[['P', '', '', 'I', '', '', 'N'],\n",
       " ['A', '', 'L', 'S', '', 'I', 'G'],\n",
       " ['Y', 'A', '', 'H', 'R', '', ''],\n",
       " ['P', '', '', 'I', '', '', '']]"
      ]
     },
     "execution_count": 26,
     "metadata": {},
     "output_type": "execute_result"
    }
   ],
   "source": [
    "s = \"PAYPALISHIRING\"\n",
    "numRows = 4\n",
    "\n",
    "numZ, remain = divmod(len(s), 2 * numRows - 2) # 有多少个完整Z\n",
    "Zcol = numRows - 1\n",
    "# 假设 numRows 能凑出一个完整Z\n",
    "if remain <= numRows:\n",
    "    COL = numZ * Zcol + 1\n",
    "else:\n",
    "    COL = numZ * Zcol + 1 + (remain - numRows)\n",
    "# 初始化矩阵\n",
    "matrix = [[''] * COL for _ in range(numRows)]\n",
    "\n",
    "r = c = 0 # 下一个在矩阵中的填充位置\n",
    "dir = 1 # 1表示竖直，-1表示斜向\n",
    "for i in range(len(s)):\n",
    "    # 判断：到拐点转向\n",
    "    matrix[r][c] = s[i]\n",
    "    # 填充后移动坐标\n",
    "    if r == numRows - 1: # 拐点\n",
    "        r -= 1\n",
    "        c += 1\n",
    "        dir *= -1 # 转向\n",
    "    elif r == 0:\n",
    "        r += 1 # col不变\n",
    "        if dir == -1:\n",
    "            dir *= -1 # 转向\n",
    "    else: # 非拐点\n",
    "        if dir == 1:\n",
    "            r += 1\n",
    "        else:\n",
    "            r -= 1\n",
    "            c += 1\n",
    "\n",
    "matrix"
   ]
  },
  {
   "cell_type": "code",
   "execution_count": 18,
   "metadata": {},
   "outputs": [
    {
     "data": {
      "text/plain": [
       "'P A H NAPLSIIGY I R  '"
      ]
     },
     "execution_count": 18,
     "metadata": {},
     "output_type": "execute_result"
    }
   ],
   "source": [
    "res = ''.join([''.join(x) for x in matrix])\n",
    "\n",
    "res"
   ]
  },
  {
   "cell_type": "code",
   "execution_count": null,
   "metadata": {},
   "outputs": [],
   "source": []
  }
 ],
 "metadata": {
  "kernelspec": {
   "display_name": "Python 3",
   "language": "python",
   "name": "python3"
  },
  "language_info": {
   "codemirror_mode": {
    "name": "ipython",
    "version": 3
   },
   "file_extension": ".py",
   "mimetype": "text/x-python",
   "name": "python",
   "nbconvert_exporter": "python",
   "pygments_lexer": "ipython3",
   "version": "3.13.5"
  },
  "orig_nbformat": 4
 },
 "nbformat": 4,
 "nbformat_minor": 2
}
