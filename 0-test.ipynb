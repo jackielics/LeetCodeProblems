{
 "cells": [
  {
   "cell_type": "code",
   "execution_count": 3,
   "metadata": {},
   "outputs": [
    {
     "name": "stdout",
     "output_type": "stream",
     "text": [
      "True\n"
     ]
    }
   ],
   "source": [
    "numCourses = 5\n",
    "prerequisites = [[1,4],[2,4],[3,1],[3,2]]\n",
    "\n",
    "graph = {}\n",
    "courses = []\n",
    "# Build graph\n",
    "for c, p in prerequisites:\n",
    "\tgraph[c] = graph.get(c, []) + [p] # course: [prequisities]\n",
    "\tcourses.append(c)\n",
    "\n",
    "vst = set() # visited\n",
    "def dfs(cur):\n",
    "\t# cur: current value\n",
    "\t\n",
    "\t# duplicate, return False directly\n",
    "\tif cur in vst: \n",
    "\t\treturn False\n",
    "\t# no pre, return True directly\n",
    "\telif cur not in graph: \n",
    "\t\treturn True\n",
    "\n",
    "\telse:\n",
    "\t\tvst.add(cur)\n",
    "\t\tpres = graph[cur].copy()\n",
    "\t\t# iterate each pres\n",
    "\t\tfor v in pres: \n",
    "\t\t\tif v in vst: # duplicated\n",
    "\t\t\t\treturn False\n",
    "\t\t\telif dfs(v): # removable\n",
    "\t\t\t\tgraph[cur].remove(v)\n",
    "\n",
    "\t\tif graph[cur]:\n",
    "\t\t\treturn False\n",
    "\t\telse:\n",
    "\t\t\tgraph.pop(cur)\n",
    "\t\t\tvst.remove(cur)\n",
    "\t\t\treturn True\n",
    "\n",
    "for crs in courses:\n",
    "\tif not dfs(crs):\n",
    "\t\tprint(False)\n",
    "\t\tbreak\n",
    "\n",
    "print(True)"
   ]
  },
  {
   "cell_type": "code",
   "execution_count": 12,
   "metadata": {},
   "outputs": [
    {
     "data": {
      "text/plain": [
       "{}"
      ]
     },
     "execution_count": 12,
     "metadata": {},
     "output_type": "execute_result"
    }
   ],
   "source": [
    "a = {1:[1,2,3]}\n",
    "\n",
    "a.pop(1)\n",
    "\n",
    "a"
   ]
  },
  {
   "cell_type": "code",
   "execution_count": null,
   "metadata": {},
   "outputs": [],
   "source": []
  }
 ],
 "metadata": {
  "kernelspec": {
   "display_name": "Python 3",
   "language": "python",
   "name": "python3"
  },
  "language_info": {
   "codemirror_mode": {
    "name": "ipython",
    "version": 3
   },
   "file_extension": ".py",
   "mimetype": "text/x-python",
   "name": "python",
   "nbconvert_exporter": "python",
   "pygments_lexer": "ipython3",
   "version": "3.11.4"
  },
  "orig_nbformat": 4
 },
 "nbformat": 4,
 "nbformat_minor": 2
}
