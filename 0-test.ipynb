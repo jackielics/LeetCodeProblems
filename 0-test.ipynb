{
 "cells": [
  {
   "cell_type": "code",
   "execution_count": 2,
   "metadata": {},
   "outputs": [
    {
     "data": {
      "text/plain": [
       "[[2, 2, 2, 2], [2, 3, 3], [3, 5]]"
      ]
     },
     "execution_count": 2,
     "metadata": {},
     "output_type": "execute_result"
    }
   ],
   "source": [
    "candidates = [2,3,6,7]\n",
    "target = 7 # 1 <= target <= 40\n",
    "\n",
    "candidates = [2,3,5]\n",
    "target = 8\n",
    "\n",
    "res = []\n",
    "def backtrack(tar, st, cur):\n",
    "\t'''\n",
    "\ttar:\ttarget value\n",
    "\ti: \t\tstart index being used\n",
    "\tcur: \tcurrent used elems\n",
    "\t'''\n",
    "\tif (v := tar - candidates[st]) < 0:\n",
    "\t\treturn None\n",
    "\telif v == 0: # exactly meet target\n",
    "\t\tres.append(cur + [candidates[st]])\n",
    "\t\treturn None\n",
    "\telse: \n",
    "\t\tfor i in range(st, len(candidates)):\n",
    "\t\t\tbacktrack(v, i, cur + [candidates[st]])\n",
    "\n",
    "for i in range(len(candidates)):\n",
    "\tbacktrack(target, i, [])\n",
    "\n",
    "res"
   ]
  },
  {
   "cell_type": "code",
   "execution_count": 4,
   "metadata": {},
   "outputs": [
    {
     "data": {
      "text/plain": [
       "[[2, 2, 2, 2], [2, 3, 3], [3, 5]]"
      ]
     },
     "execution_count": 4,
     "metadata": {},
     "output_type": "execute_result"
    }
   ],
   "source": [
    "candidates = [2,3,5]\n",
    "target = 8\n",
    "\n",
    "res = []\n",
    "def backtrack(i, cur, total):\n",
    "\t'''\n",
    "\ti: start index\n",
    "\tcur: current list of elems used\n",
    "\ttotal: current total\n",
    "\t'''\n",
    "\t# Bound\n",
    "\tif total == target: # meet target\n",
    "\t\tres.append(cur.copy()) # shallow copy(enough for [int])\n",
    "\t\treturn\n",
    "\telif total > target or i >= len(candidates):\n",
    "\t\treturn\n",
    "\n",
    "\tcur.append(candidates[i])\n",
    "\tbacktrack(i, cur, total + candidates[i]) # try [i]\n",
    "\tcur.pop()\n",
    "\tbacktrack(i + 1, cur, total) # skip [i]\n",
    "\n",
    "backtrack(0, [], 0) # start from i=0, cur=[], total=0\n",
    "res"
   ]
  },
  {
   "cell_type": "code",
   "execution_count": null,
   "metadata": {},
   "outputs": [],
   "source": []
  }
 ],
 "metadata": {
  "kernelspec": {
   "display_name": "Python 3",
   "language": "python",
   "name": "python3"
  },
  "language_info": {
   "codemirror_mode": {
    "name": "ipython",
    "version": 3
   },
   "file_extension": ".py",
   "mimetype": "text/x-python",
   "name": "python",
   "nbconvert_exporter": "python",
   "pygments_lexer": "ipython3",
   "version": "3.11.4"
  },
  "orig_nbformat": 4
 },
 "nbformat": 4,
 "nbformat_minor": 2
}
