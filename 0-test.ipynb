{
 "cells": [
  {
   "cell_type": "code",
   "execution_count": 3,
   "metadata": {},
   "outputs": [
    {
     "data": {
      "text/plain": [
       "-6233"
      ]
     },
     "execution_count": 3,
     "metadata": {},
     "output_type": "execute_result"
    }
   ],
   "source": [
    "coins = [186,419,83,408]\n",
    "amount = 6249\n",
    "def dfs(remain, i):\n",
    "\t# recursion exit\n",
    "\tif remain == 0:\n",
    "\t\treturn 0\n",
    "\telif remain < 0 or i < 0:\n",
    "\t\treturn -float('inf') # always neg\n",
    "\t # Recursion Body\n",
    "\tcnt = dfs(remain - coins[i], i) + 1\n",
    "\tif cnt >= 0:\n",
    "\t\treturn cnt\n",
    "\telse:\n",
    "\t\treturn dfs(remain, i - 1) + 1\n",
    "coins.sort()\n",
    "res = dfs(amount, len(coins) - 1)\n",
    "res"
   ]
  },
  {
   "cell_type": "code",
   "execution_count": 22,
   "metadata": {},
   "outputs": [
    {
     "data": {
      "text/plain": [
       "20"
      ]
     },
     "execution_count": 22,
     "metadata": {},
     "output_type": "execute_result"
    }
   ],
   "source": [
    "coins = [186,419,83,408]\n",
    "amount = 6249\n",
    "dp = {} # {value:steps}\n",
    "# coins = [2]\n",
    "# amount = 3\n",
    "\n",
    "def dfs(cur:int)->int:\n",
    "\t'''\n",
    "\tcur: current change\n",
    "\tReturn: min steps of specific value\n",
    "\t'''\n",
    "\t# Recursion Exit\n",
    "\tif cur == 0:\n",
    "\t\treturn 0\n",
    "\telif cur < 0:\n",
    "\t\treturn float('inf') # inaccessible\n",
    "\t\n",
    "\t# Recursion Body\n",
    "\tif not dp.get(cur, None): # non-exist\n",
    "\t\tmCnt = float('inf')\n",
    "\t\t# recurse every possibility\n",
    "\t\tfor j in range(len(coins) - 1, -1, -1):\n",
    "\t\t\tcnt = dfs(cur - coins[j]) + 1\n",
    "\t\t\t# if cnt >= 0:\n",
    "\t\t\tmCnt = min(mCnt, cnt) # record\n",
    "\t\tdp[cur] = mCnt\n",
    "\n",
    "\treturn dp[cur]\n",
    "\t\n",
    "res = dfs(amount)\n",
    "res"
   ]
  },
  {
   "cell_type": "code",
   "execution_count": 30,
   "metadata": {},
   "outputs": [
    {
     "data": {
      "text/plain": [
       "20"
      ]
     },
     "execution_count": 30,
     "metadata": {},
     "output_type": "execute_result"
    }
   ],
   "source": [
    "coins = [186,419,83,408]\n",
    "amount = 6249\n",
    "# 0 <= amount <= 104\n",
    "\n",
    "# inaccessible [0, amount]\n",
    "dp = [float('inf')] * (amount + 1) \n",
    "dp[0] = 0 # initial status, step to access Zero\n",
    "for v in range(1, amount + 1):\n",
    "\tfor c in coins:\n",
    "\t\tif v >= c: # update min steps\n",
    "\t\t\tdp[v] = min(dp[v], dp[v - c] + 1)\n",
    "dp[-1]"
   ]
  },
  {
   "cell_type": "code",
   "execution_count": null,
   "metadata": {},
   "outputs": [],
   "source": []
  }
 ],
 "metadata": {
  "kernelspec": {
   "display_name": "Python 3",
   "language": "python",
   "name": "python3"
  },
  "language_info": {
   "codemirror_mode": {
    "name": "ipython",
    "version": 3
   },
   "file_extension": ".py",
   "mimetype": "text/x-python",
   "name": "python",
   "nbconvert_exporter": "python",
   "pygments_lexer": "ipython3",
   "version": "3.11.4"
  },
  "orig_nbformat": 4
 },
 "nbformat": 4,
 "nbformat_minor": 2
}
