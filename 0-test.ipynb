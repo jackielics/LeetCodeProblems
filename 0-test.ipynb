{
 "cells": [
  {
   "cell_type": "code",
   "execution_count": 1,
   "metadata": {},
   "outputs": [
    {
     "data": {
      "text/plain": [
       "[2]"
      ]
     },
     "execution_count": 1,
     "metadata": {},
     "output_type": "execute_result"
    }
   ],
   "source": [
    "a = [1,2,3]\n",
    "a[1:2]"
   ]
  },
  {
   "cell_type": "code",
   "execution_count": 1,
   "metadata": {},
   "outputs": [
    {
     "data": {
      "text/plain": [
       "2"
      ]
     },
     "execution_count": 1,
     "metadata": {},
     "output_type": "execute_result"
    }
   ],
   "source": [
    "heights = [1,1]\n",
    "monoStack = []\n",
    "maxArea = 0\n",
    "i = 0\n",
    "\n",
    "while i < len(heights):\n",
    "\tif not monoStack or heights[i] > monoStack[-1][1]: # just add it\n",
    "\t\tmonoStack.append([i, heights[i]])\n",
    "\t\ti += 1\n",
    "\telif heights[i] == monoStack[-1][1]:\n",
    "\t\tmonoStack.append([i, heights[i]])\n",
    "\t\ti += 1 # same, skip\n",
    "\telse: # pop all elements less than heights[i]\n",
    "\t\tpop_list = [] # 本次将要从monoStack中pop出的元素\n",
    "\t\twhile monoStack and monoStack[-1][1] >= heights[i]: # mono非空ignore the same?\n",
    "\t\t\ttmp = monoStack.pop()\n",
    "\t\t\tpop_list.append(tmp) # 大的在前\n",
    "\t\t\tw = pop_list[0][0] - pop_list[-1][0] + 1\n",
    "\t\t\th = min(pop_list[-1][1], pop_list[0][1])\n",
    "\t\t\tmaxArea = max(maxArea, w * h)\n",
    "\t\tmonoStack.append([tmp[0], heights[i]]) # 往左扩展过的索引\n",
    "\n",
    "i = len(monoStack) - 1\n",
    "while i >= 0:\n",
    "\tw = monoStack[-1][0] - monoStack[i][0] + 1\n",
    "\th = min(monoStack[-1][1], monoStack[i][1])\n",
    "\tmaxArea = max(maxArea, w * h)\n",
    "\ti -= 1\n",
    "\t\t\n",
    "maxArea"
   ]
  },
  {
   "cell_type": "code",
   "execution_count": 13,
   "metadata": {},
   "outputs": [
    {
     "ename": "IndexError",
     "evalue": "list index out of range",
     "output_type": "error",
     "traceback": [
      "\u001b[1;31m---------------------------------------------------------------------------\u001b[0m",
      "\u001b[1;31mIndexError\u001b[0m                                Traceback (most recent call last)",
      "\u001b[1;32md:\\Codes\\LeetCode_In_VS\\0-test.ipynb 单元格 3\u001b[0m in \u001b[0;36m<cell line: 2>\u001b[1;34m()\u001b[0m\n\u001b[0;32m      <a href='vscode-notebook-cell:/d%3A/Codes/LeetCode_In_VS/0-test.ipynb#W6sZmlsZQ%3D%3D?line=0'>1</a>\u001b[0m a \u001b[39m=\u001b[39m [\u001b[39m1\u001b[39m,\u001b[39m2\u001b[39m]\n\u001b[1;32m----> <a href='vscode-notebook-cell:/d%3A/Codes/LeetCode_In_VS/0-test.ipynb#W6sZmlsZQ%3D%3D?line=1'>2</a>\u001b[0m \u001b[39mif\u001b[39;00m \u001b[39mnot\u001b[39;00m a[\u001b[39m3\u001b[39m]:\n\u001b[0;32m      <a href='vscode-notebook-cell:/d%3A/Codes/LeetCode_In_VS/0-test.ipynb#W6sZmlsZQ%3D%3D?line=2'>3</a>\u001b[0m     \u001b[39mprint\u001b[39m(\u001b[39m'\u001b[39m\u001b[39m1\u001b[39m\u001b[39m'\u001b[39m)\n",
      "\u001b[1;31mIndexError\u001b[0m: list index out of range"
     ]
    }
   ],
   "source": [
    "a = [1,2]\n",
    "if not a[3]:\n",
    "    print('1')"
   ]
  },
  {
   "cell_type": "code",
   "execution_count": 11,
   "metadata": {},
   "outputs": [],
   "source": [
    "import math\n",
    "matrix = [[1,3,5,7],[10,11,16,20],[23,30,34,60]]\n",
    "target = 3\n",
    "\n",
    "# 找行\n",
    "l, r = 0, len(matrix) - 1\n",
    "while l < r: # 对齐时退出\n",
    "\tm = math.ceil(l + (r - l) / 2) # 向上取整\n",
    "\tif target > matrix[m][0]:\n",
    "\t\tl = m\n",
    "\telif target < matrix[m][0]:\n",
    "\t\tr = m - 1\n",
    "\telse: # 正好等于\n",
    "\t\tprint (True)\n",
    "i = l\n",
    "\n",
    "l, r = 0, len(matrix[i]) - 1\n",
    "\n",
    "# 找列\n",
    "while l <= r: # l > r时退出\n",
    "\tm = math.ceil(l + (r - l) / 2) # 向上取整\n",
    "\tif target > matrix[i][m]:\n",
    "\t\tl = m + 1\n",
    "\telif target < matrix[i][m]:\n",
    "\t\tr = m - 1\n",
    "\telse: # 正好等于\n",
    "\t\tprint(True)\n",
    "\n",
    "print(False)"
   ]
  },
  {
   "cell_type": "code",
   "execution_count": 13,
   "metadata": {},
   "outputs": [
    {
     "data": {
      "text/plain": [
       "array([1, 2, 3, 4, 5, 6])"
      ]
     },
     "execution_count": 13,
     "metadata": {},
     "output_type": "execute_result"
    }
   ],
   "source": [
    "import numpy as np\n",
    "a = [[1,2,3], [4,5,6]]\n",
    "np.reshape(a, -1)"
   ]
  },
  {
   "cell_type": "code",
   "execution_count": 20,
   "metadata": {},
   "outputs": [
    {
     "data": {
      "text/plain": [
       "[]"
      ]
     },
     "execution_count": 20,
     "metadata": {},
     "output_type": "execute_result"
    }
   ],
   "source": [
    "from bisect import bisect_left_len\n",
    "\n",
    "nums = [4,5,6,7,0,1,2]\n",
    "nums[:0]"
   ]
  },
  {
   "cell_type": "code",
   "execution_count": 30,
   "metadata": {},
   "outputs": [
    {
     "data": {
      "text/plain": [
       "[1, 4]"
      ]
     },
     "execution_count": 30,
     "metadata": {},
     "output_type": "execute_result"
    }
   ],
   "source": [
    "t = {\"foo\":[[1, \"bar\"], [4, \"bar2\"]],\n",
    "     }\n",
    "# sorted(t[\"foo\"], key = lambda x : x[0], reverse = True)\n",
    "t[\"fo\"] = t.get(\"fo\", []) + [[3, 'bar3']]\n",
    "\n",
    "t[\"foo\"]\n",
    "[x[0] for x in t[\"foo\"]]"
   ]
  },
  {
   "cell_type": "code",
   "execution_count": 39,
   "metadata": {},
   "outputs": [
    {
     "data": {
      "text/plain": [
       "{'foo': {1: 'bar', 4: 'bar2', 5: 'bar5'}}"
      ]
     },
     "execution_count": 39,
     "metadata": {},
     "output_type": "execute_result"
    }
   ],
   "source": [
    "t = {\"foo\":{1:\"bar\", 4:\"bar2\"},\n",
    "     }\n",
    "# sorted(t[\"foo\"], key = lambda x : x[0], reverse = True)\n",
    "# t[\"fo\"] = t.get(\"fo\", []) + [[3, 'bar3']]\n",
    "\n",
    "# [x[0] for x in t[\"foo\"]]\n",
    "# list(t[\"foo\"].keys())\n",
    "t[\"foo\"][5] = 'bar5'\n",
    "t"
   ]
  },
  {
   "cell_type": "code",
   "execution_count": 49,
   "metadata": {},
   "outputs": [
    {
     "data": {
      "text/plain": [
       "{'22': '222'}"
      ]
     },
     "execution_count": 49,
     "metadata": {},
     "output_type": "execute_result"
    }
   ],
   "source": [
    "# d = {}\n",
    "# d['1'] = {'11':'111'}\n",
    "# d['1']['22'] = '222'\n",
    "\n",
    "# d\n",
    "# a = {'11':'111'}\n",
    "a = {}\n",
    "a.update({'22':'222'})\n"
   ]
  },
  {
   "cell_type": "code",
   "execution_count": 52,
   "metadata": {},
   "outputs": [
    {
     "data": {
      "text/plain": [
       "'bar1'"
      ]
     },
     "execution_count": 52,
     "metadata": {},
     "output_type": "execute_result"
    }
   ],
   "source": [
    "time_value = {}\n",
    "time_list = {}\n",
    "\n",
    "key = \"foo\"\n",
    "timestamp = 1\n",
    "value = \"bar1\"\n",
    "if not time_value.get(key, {}): # this key doesn't exist\n",
    "\ttime_value[key] = {} # create a key-value\n",
    "time_value[key][timestamp] = value\n",
    "\n",
    "\n",
    "if not time_list.get(key, {}): # key doesn't exist\n",
    "\ttime_list[key] = [] # create a key-[]\n",
    "time_list[key].append(timestamp)\n",
    "\n",
    "time_value, time_list\n",
    "\n",
    "time_value.get(key, {}).get(timestamp, None)"
   ]
  },
  {
   "cell_type": "code",
   "execution_count": 55,
   "metadata": {},
   "outputs": [
    {
     "data": {
      "text/plain": [
       "True"
      ]
     },
     "execution_count": 55,
     "metadata": {},
     "output_type": "execute_result"
    }
   ],
   "source": [
    "(a := 1) == 1"
   ]
  },
  {
   "cell_type": "code",
   "execution_count": null,
   "metadata": {},
   "outputs": [],
   "source": [
    "import math\n",
    "\n",
    "nums2 = [1,3,5] # 相互交叉，普遍情况\n",
    "nums1 = [2,4,6] \n",
    "\n",
    "# nums2 = [1,2,3,4,7] # 相互交叉，只用到一个\n",
    "# nums1 = [5,6,8] \n",
    "\n",
    "# nums2 = [1,2,3] # 特殊情况\n",
    "# nums1 = [4,5,6]\n",
    "\n",
    "nums1 = [1,2,3]\n",
    "nums2 = [1,2]\n",
    "\n",
    "total_len = len(nums1) + len(nums2)\n",
    "left_len = total_len // 2\n",
    "\n",
    "# 判断特殊情况\n",
    "if nums1[-1] <= nums2[0]: # nums1在前，nums2在后\n",
    "\tmed = sum((nums1 + nums2)[left_len - (1 if total_len % 2 == 0 else 0) : left_len + 1]) / 2\n",
    "\tprint(med)\n",
    "elif nums1[0] >= nums2[-1]: # nums1在后，nums2在前\n",
    "\tmed = sum((nums2 + nums1)[left_len - (1 if total_len % 2 == 0 else 0) : left_len + 1]) / 2\n",
    "\tprint(med)\n",
    "\n",
    "l, r = 0, len(nums1) - 1\n",
    "m = (l + r) // 2\n",
    "while l <= r:\n",
    "\tm2 = left_len - m - 2 # left_len = (m+1)+(m2+1)\n",
    "\tif m2 < 0: # nums2中没有用到的元素\n",
    "\t\tm = left_len - 1\n",
    "\t\tbreak\n",
    "\tif nums1[m] <= nums2[m2 + 1]: # num1满足条件\n",
    "\t\tif nums2[m2] <= nums1[m + 1]:\n",
    "\t\t\tbreak # 满足条件，划分结束\n",
    "\t\telse:\n",
    "\t\t\tl = m + 1 # 增大m\n",
    "\telse: # num1不满足条件\n",
    "\t\t\tr = m - 1 # 减小m\n",
    "\tm = (l + r) // 2 # 下标\n",
    "\t\n",
    "\n",
    "# l > r跳出循环的 ,对num1的l、r进行判断\n",
    "if r < 0: # nums1未取的\n",
    "\tm2 = left_len - 1\n",
    "\t# m = -1 # 表示不计\n",
    "elif l > len(nums1) - 1: # nums1全取的\n",
    "\tm2 = left_len - len(nums1) - 1\n",
    "else: # break跳出while循环的\n",
    "\tpass\n",
    "\n",
    "# 计算中位数右边的操作数\n",
    "if m >= -1 and m2 >= -1:\n",
    "\tright_operand = min(nums1[m + 1], nums2[m2 + 1])\n",
    "elif m >= -1:\n",
    "\tright_operand = nums1[m + 1]\n",
    "elif m2 >= -1:\n",
    "\tright_operand = nums2[m2 + 1]\n",
    "\n",
    "# 计算中位数左边的操作数\n",
    "if total_len % 2 == 0:\n",
    "\tif m >= 0 and m2 >= 0:\n",
    "\t\tleft_operand = max(nums1[m], nums2[m2])\n",
    "\telif m >= 0:\n",
    "\t\tleft_operand = nums1[m]\n",
    "\telif m2 >= 0:\n",
    "\t\tleft_operand = nums2[m2]\n",
    "\tmed = (left_operand + right_operand) / 2\n",
    "else:\n",
    "\tmed = right_operand\n",
    "\n",
    "m, m2, med"
   ]
  },
  {
   "cell_type": "code",
   "execution_count": 11,
   "metadata": {},
   "outputs": [
    {
     "data": {
      "text/plain": [
       "2"
      ]
     },
     "execution_count": 11,
     "metadata": {},
     "output_type": "execute_result"
    }
   ],
   "source": [
    "-10 % 3"
   ]
  },
  {
   "cell_type": "code",
   "execution_count": 4,
   "metadata": {},
   "outputs": [
    {
     "data": {
      "text/plain": [
       "0"
      ]
     },
     "execution_count": 4,
     "metadata": {},
     "output_type": "execute_result"
    }
   ],
   "source": [
    "prices = [7,6,4,3,1]\n",
    "res = 0\n",
    "# 1 <= prices.length\n",
    "minV = prices[0] # 前面的最小值\n",
    "# 对于每个数，找之前小于他的值\n",
    "for i in range(1, len(prices)):\n",
    "\tprofit = prices[i] - minV\n",
    "\tminV = min(minV, prices[i])\n",
    "\tres = max(res, profit)\n",
    "res"
   ]
  },
  {
   "cell_type": "code",
   "execution_count": 1,
   "metadata": {},
   "outputs": [
    {
     "data": {
      "text/plain": [
       "[]"
      ]
     },
     "execution_count": 1,
     "metadata": {},
     "output_type": "execute_result"
    }
   ],
   "source": [
    "a = [1,2,3]\n",
    "a[0:0]"
   ]
  },
  {
   "cell_type": "code",
   "execution_count": 3,
   "metadata": {},
   "outputs": [
    {
     "name": "stdout",
     "output_type": "stream",
     "text": [
      "111\n"
     ]
    }
   ],
   "source": [
    "if (a:=1) == 1 and a % 2 == 1:\n",
    "    print(\"111\")"
   ]
  },
  {
   "cell_type": "code",
   "execution_count": 6,
   "metadata": {},
   "outputs": [
    {
     "data": {
      "text/plain": [
       "3"
      ]
     },
     "execution_count": 6,
     "metadata": {},
     "output_type": "execute_result"
    }
   ],
   "source": [
    "s = \"abcabcbb\"\n",
    "maxLen = 0\n",
    "l = 0\n",
    "for r in range(len(s)):\n",
    "\twhile (r - l + 1) != len(set(s[l : r + 1])): # 有重复时l右移直到只剩一个字符\n",
    "\t\tl += 1\n",
    "\tmaxLen = max(maxLen, r - l + 1)\n",
    "\n",
    "maxLen"
   ]
  },
  {
   "cell_type": "code",
   "execution_count": 3,
   "metadata": {},
   "outputs": [
    {
     "data": {
      "text/plain": [
       "2"
      ]
     },
     "execution_count": 3,
     "metadata": {},
     "output_type": "execute_result"
    }
   ],
   "source": [
    "s = \"ABAA\"\n",
    "k = 0\n",
    "char_freq = [0] * 26 # 0对应A，依此类推\n",
    "\n",
    "l, r = 0, 0\n",
    "maxFreq = 0\n",
    "res = 0\n",
    "\n",
    "for r in range(len(s)):\n",
    "\tidx = ord(s[r]) - ord('A')\n",
    "\tsubLen = r - l + 1 # length of substring\n",
    "\tchar_freq[idx] += 1\n",
    "\tmaxFreq = max(maxFreq, \tchar_freq[idx]) # 区间扩展时需要更新\n",
    "\tif subLen - maxFreq <= k: # k次变换能够添补断点\n",
    "\t\tres = max(res, subLen) # 更新结果\n",
    "\telse: # 不够填充，开始削减\n",
    "\t\twhile subLen - maxFreq > k:\n",
    "\t\t\tidx = ord(s[l]) - ord('A')\n",
    "\t\t\tchar_freq[idx] -= 1\n",
    "\t\t\tl += 1\n",
    "\t\t\tmaxFreq = max(char_freq) # 区间扩展时需要更新\n",
    "\t\t\tsubLen = r - l + 1 # length of substring\n",
    "\n",
    "\t\t\n",
    "maxFreq\n",
    "\n",
    "# for i in range(len(s)):\n",
    "#     char_freq[ord(s[i]) - ord('A')] -= 1\n",
    "\n",
    "char_freq\n",
    "res"
   ]
  },
  {
   "cell_type": "code",
   "execution_count": 14,
   "metadata": {},
   "outputs": [
    {
     "data": {
      "text/plain": [
       "[0, 0, 0, 0, 0, 0, 0, 0, 0, 0, 0, 0, 0, 0, 0, 0, 0, 0, 0, 0, 0, 0, 0, 0, 0, 0]"
      ]
     },
     "execution_count": 14,
     "metadata": {},
     "output_type": "execute_result"
    }
   ],
   "source": [
    "# ord('C') - ord('A')\n",
    "[0] * 26"
   ]
  },
  {
   "cell_type": "code",
   "execution_count": 1,
   "metadata": {},
   "outputs": [
    {
     "data": {
      "text/plain": [
       "{'a': 1, 'b': 1}"
      ]
     },
     "execution_count": 1,
     "metadata": {},
     "output_type": "execute_result"
    }
   ],
   "source": [
    "s1 = \"ab\" \n",
    "s2 = \"eidbaooo\"\n",
    "\n",
    "d1, d2 = {}, {} # dict to store each letter's frequency\n",
    "\n",
    "for i in range(len(s1)):\n",
    "\td1[s1[i]] = d1.get(s1[i], 0) + 1\n",
    "\n",
    "d1"
   ]
  },
  {
   "cell_type": "code",
   "execution_count": 9,
   "metadata": {},
   "outputs": [
    {
     "data": {
      "text/plain": [
       "({'A': 1, 'B': 1, 'C': 2}, 'ABCC')"
      ]
     },
     "execution_count": 9,
     "metadata": {},
     "output_type": "execute_result"
    }
   ],
   "source": [
    "s = \"ADOBECODEBANC\"\n",
    "t = \"ABCC\"\n",
    "\n",
    "dt, ds = {}, {}\n",
    "for i in range(len(t)):\n",
    "\tdt[t[i]] = dt.get(t[i], 0) + 1\n",
    "dt"
   ]
  },
  {
   "cell_type": "code",
   "execution_count": 40,
   "metadata": {},
   "outputs": [
    {
     "name": "stdout",
     "output_type": "stream",
     "text": [
      "匹配\n"
     ]
    },
    {
     "data": {
      "text/plain": [
       "([1, 1, 1], 2, 1, 'b', {'b': 0}, {'b': 1})"
      ]
     },
     "execution_count": 40,
     "metadata": {},
     "output_type": "execute_result"
    }
   ],
   "source": [
    "# s = \"bba\"\n",
    "# t = \"ab\"\n",
    "\n",
    "s = \"ADOBECODEBANC\"\n",
    "t = \"ABC\"\n",
    "\n",
    "s = \"ab\"\n",
    "t = \"b\"\n",
    "\n",
    "def judge_dict(ds:dict, dt:dict)->bool:\n",
    "\tfor i in key_list:\n",
    "\t\tif ds.get(i, 0) < dt[i]:\n",
    "\t\t\treturn False\n",
    "\treturn True\n",
    "\n",
    "\n",
    "if len(s) < len(t):\n",
    "\tprint(\"\")\n",
    "dt, ds = {}, {} # frequency of each character\n",
    "l, r = 0, 0 # s中滑动窗口的左右指针\n",
    "for i in range(len(t)):\n",
    "\tdt[t[i]] = dt.get(t[i], 0) + 1\n",
    "key_list = list(dt.keys()) # 只统计\n",
    "\n",
    "\n",
    "while True: # 继续寻找第一个匹配的窗口\n",
    "\tif r >= len(s): # 整个s都无法匹配\n",
    "\t\tprint(\"整个s都无法匹配\")\n",
    "\t\tbreak\n",
    "\tif s[r] in key_list:\n",
    "\t\tds[s[r]] = ds.get(s[r], 0) + 1\n",
    "\tif judge_dict(ds, dt): # 匹配\n",
    "\t\tprint(\"匹配\")\n",
    "\t\tbreak\n",
    "\tr += 1 # \n",
    "\n",
    "minLen = [r - l + 1, l, r] # len,l,r\n",
    "\n",
    "while r < len(s) and l <= r: # 在当前最小窗口的基础上继续找更小的\n",
    "\tif judge_dict(ds, dt): # 当前窗口匹配\n",
    "\t\t# 尝试更新窗口\n",
    "\t\tminLen = minLen if minLen[0] <= r - l + 1 else [r - l + 1, l, r]\n",
    "\t\tif s[l] in key_list:\n",
    "\t\t\tds[s[l]] = ds.get(s[l], 0) - 1\n",
    "\t\tl += 1 # 从左缩小窗口一格\n",
    "\n",
    "\telif r < len(s) - 1: # r没到末尾，且当前窗口不匹配\n",
    "\t\tr += 1\n",
    "\t\tif s[r] in key_list:\n",
    "\t\t\tds[s[r]] = ds.get(s[r], 0) + 1\n",
    "\telse: # 到末尾了，且当前窗口不匹配\n",
    "\t\tbreak\n",
    "\n",
    "minLen, l, r, s[minLen[1] : minLen[2] + 1], ds,dt"
   ]
  },
  {
   "cell_type": "code",
   "execution_count": 1,
   "metadata": {},
   "outputs": [
    {
     "data": {
      "text/plain": [
       "[3, 3, 5, 5, 6, 7]"
      ]
     },
     "execution_count": 1,
     "metadata": {},
     "output_type": "execute_result"
    }
   ],
   "source": [
    "nums = [1,3,-1,-3,5,3,6,7]\n",
    "k = 3\n",
    "\n",
    "import collections\n",
    "output = []\n",
    "q = collections.deque()\n",
    "l = r = 0\n",
    "\n",
    "while r < len(nums):#\n",
    "\twhile q and nums[q[-1]] < nums[r]:\n",
    "\t\tq.pop()\n",
    "\tq.append(r) # 新进来的无论如何都要入列\n",
    "\t#remove\tLeft val from window\n",
    "\tif l > q[0]: # 只有最大值被移出时要减，为什么？\n",
    "\t\tq.popleft()\n",
    "\tif(r+1) >= k: # 超出窗口范围\n",
    "\t\toutput.append(nums[q[0]])\n",
    "\t\tl += 1\n",
    "\tr += 1\n",
    "\n",
    "output"
   ]
  },
  {
   "cell_type": "code",
   "execution_count": null,
   "metadata": {},
   "outputs": [],
   "source": []
  }
 ],
 "metadata": {
  "kernelspec": {
   "display_name": "Python 3",
   "language": "python",
   "name": "python3"
  },
  "language_info": {
   "codemirror_mode": {
    "name": "ipython",
    "version": 3
   },
   "file_extension": ".py",
   "mimetype": "text/x-python",
   "name": "python",
   "nbconvert_exporter": "python",
   "pygments_lexer": "ipython3",
   "version": "3.11.2"
  },
  "orig_nbformat": 4
 },
 "nbformat": 4,
 "nbformat_minor": 2
}
