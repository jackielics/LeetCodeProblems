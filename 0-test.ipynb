{
 "cells": [
  {
   "cell_type": "code",
   "execution_count": 8,
   "metadata": {},
   "outputs": [
    {
     "name": "stdout",
     "output_type": "stream",
     "text": [
      "[1, -1]\n",
      "[6, 1, -1]\n",
      "[6, 6, 1, -1]\n",
      "[6, 6, 6, 1, -1]\n",
      "[18, 6, 6, 6, 1, -1]\n"
     ]
    }
   ],
   "source": [
    "arr = [17,18,5,4,6,1]\n",
    "\n",
    "res = [-1]\n",
    "m = -1 # max leftwards\n",
    "\n",
    "for i in range(1, len(arr)):\n",
    "\t# print(i)\n",
    "\tm = max(m, arr[-i])\n",
    "\tres.insert(0, m)\n",
    "\tprint(res)"
   ]
  },
  {
   "cell_type": "code",
   "execution_count": null,
   "metadata": {},
   "outputs": [],
   "source": []
  }
 ],
 "metadata": {
  "kernelspec": {
   "display_name": "Python 3",
   "language": "python",
   "name": "python3"
  },
  "language_info": {
   "codemirror_mode": {
    "name": "ipython",
    "version": 3
   },
   "file_extension": ".py",
   "mimetype": "text/x-python",
   "name": "python",
   "nbconvert_exporter": "python",
   "pygments_lexer": "ipython3",
   "version": "3.12.0"
  },
  "orig_nbformat": 4
 },
 "nbformat": 4,
 "nbformat_minor": 2
}
