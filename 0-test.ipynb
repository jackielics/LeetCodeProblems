{
 "cells": [
  {
   "cell_type": "code",
   "execution_count": 2,
   "metadata": {},
   "outputs": [
    {
     "data": {
      "text/plain": [
       "1"
      ]
     },
     "execution_count": 2,
     "metadata": {},
     "output_type": "execute_result"
    }
   ],
   "source": [
    "# intervals = [ [1,2], [1,2], [1,2] ]\n",
    "intervals = [[1,2],[2,3],[3,4],[1,3]]\n",
    "\n",
    "# Erase the Longest Interval\n",
    "intervals.sort()\n",
    "end = float('-inf') # End of last kept interval, start from -inf\n",
    "res = 0\n",
    "\n",
    "for l, r in intervals:\n",
    "\tif l >= end: # Non-Overlapping\n",
    "\t\tend = r # Update 'st' to 'r'\n",
    "\telse: # Overlapping\n",
    "\t\tres += 1\n",
    "\t\t# Keep the shorter interval, remove the longer interval\n",
    "\t\tend = min(end, r) # Update 'st' to Smaller One\n",
    "\n",
    "res"
   ]
  },
  {
   "cell_type": "code",
   "execution_count": null,
   "metadata": {},
   "outputs": [],
   "source": [
    "# [2,5] -3-> [2,3]\n",
    "# [2,3] -7-> [2,3,7]"
   ]
  }
 ],
 "metadata": {
  "kernelspec": {
   "display_name": "Python 3",
   "language": "python",
   "name": "python3"
  },
  "language_info": {
   "codemirror_mode": {
    "name": "ipython",
    "version": 3
   },
   "file_extension": ".py",
   "mimetype": "text/x-python",
   "name": "python",
   "nbconvert_exporter": "python",
   "pygments_lexer": "ipython3",
   "version": "3.11.4"
  },
  "orig_nbformat": 4
 },
 "nbformat": 4,
 "nbformat_minor": 2
}
