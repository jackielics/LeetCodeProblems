{
 "cells": [
  {
   "cell_type": "code",
   "execution_count": 6,
   "metadata": {},
   "outputs": [
    {
     "data": {
      "text/plain": [
       "False"
      ]
     },
     "execution_count": 6,
     "metadata": {},
     "output_type": "execute_result"
    }
   ],
   "source": [
    "def exist(board, word: str) -> bool:\n",
    "    visited = set()\n",
    "    global res\n",
    "    res = False\n",
    "\n",
    "    def backtrack(cur, i, j):\n",
    "        global res\n",
    "        if cur == len(word): # finish\n",
    "            res = True\n",
    "            return\n",
    "        elif not (-1 < i < len(board) and -1 < j < len(board[0])):\n",
    "            # out of range\n",
    "            return\n",
    "\n",
    "        # for x in (i-1, i+1):\n",
    "        #     for y in (j-1, j+1):\n",
    "        for x, y in ((i, j+1), (i+1, j), (i, j-1), (i-1, j)):\n",
    "            if not res and (x, y) not in visited and (-1 < x < len(board) and -1 < y < len(board[0])) and word[cur] == board[x][y]:\n",
    "                visited.add((x, y))\n",
    "                backtrack(cur + 1, x, y)\n",
    "                visited.remove((x, y))\n",
    "\n",
    "\n",
    "    # find entrance\n",
    "    for i in range(len(board)):\n",
    "        for j in range(len(board[0])):\n",
    "            if not res and word[0] == board[i][j]:\n",
    "                visited.add((i, j))\n",
    "                backtrack(1, i, j)\n",
    "                visited.remove((i, j))\n",
    "\n",
    "    return res\n",
    "\n",
    "\n",
    "exist([[\"a\",\"a\"]], \"aaa\")"
   ]
  }
 ],
 "metadata": {
  "kernelspec": {
   "display_name": "Python 3",
   "language": "python",
   "name": "python3"
  },
  "language_info": {
   "codemirror_mode": {
    "name": "ipython",
    "version": 3
   },
   "file_extension": ".py",
   "mimetype": "text/x-python",
   "name": "python",
   "nbconvert_exporter": "python",
   "pygments_lexer": "ipython3",
   "version": "3.13.5"
  },
  "orig_nbformat": 4
 },
 "nbformat": 4,
 "nbformat_minor": 2
}
