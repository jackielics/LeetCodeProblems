{
 "cells": [
  {
   "cell_type": "code",
   "execution_count": 29,
   "metadata": {},
   "outputs": [
    {
     "name": "stdout",
     "output_type": "stream",
     "text": [
      "False\n"
     ]
    }
   ],
   "source": [
    "n = 5 \n",
    "edges = [[0,1],[1,2],[2,3],[1,3],[1,4]]\n",
    "\n",
    "\n",
    "# n = 5 \n",
    "# edges = [[0, 1], [0, 2], [0, 3], [1, 4]]\n",
    "\n",
    "if not edges:\n",
    "\tif n < 2:\n",
    "\t\tprint (True)\n",
    "\telse:\n",
    "\t\tprint (False)\n",
    "\n",
    "vst = set()\n",
    "graph = {}\n",
    "# Build Graph\n",
    "graph = {i: [] for i in range(n)}\n",
    "for x, y in edges:\n",
    "\tgraph[x].append(y)\n",
    "\tgraph[y].append(x)\n",
    "\n",
    "# start from 0\n",
    "def dfs(cur, prev):\n",
    "\t'''\n",
    "\tcur: current node \n",
    "\tprev: previous node \n",
    "\t'''\n",
    "\tif cur not in vst:\n",
    "\t\tvst.add(cur)\n",
    "\t\tfor v in graph[cur]:\n",
    "\t\t\tif v != prev:\n",
    "\t\t\t\tif not dfs(v, prev = cur):\n",
    "\t\t\t\t\treturn False\n",
    "\t# visited and not prev\n",
    "\telse:\n",
    "\t\treturn False\n",
    "\t\n",
    "\treturn True\n",
    "\n",
    "print(dfs(0, 0) and len(vst) < n)"
   ]
  },
  {
   "cell_type": "code",
   "execution_count": null,
   "metadata": {},
   "outputs": [],
   "source": []
  }
 ],
 "metadata": {
  "kernelspec": {
   "display_name": "Python 3",
   "language": "python",
   "name": "python3"
  },
  "language_info": {
   "codemirror_mode": {
    "name": "ipython",
    "version": 3
   },
   "file_extension": ".py",
   "mimetype": "text/x-python",
   "name": "python",
   "nbconvert_exporter": "python",
   "pygments_lexer": "ipython3",
   "version": "3.11.4"
  },
  "orig_nbformat": 4
 },
 "nbformat": 4,
 "nbformat_minor": 2
}
