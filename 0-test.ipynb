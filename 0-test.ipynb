{
 "cells": [
  {
   "cell_type": "code",
   "execution_count": 32,
   "metadata": {},
   "outputs": [
    {
     "data": {
      "text/plain": [
       "[24, 32, 8, 12]"
      ]
     },
     "execution_count": 32,
     "metadata": {},
     "output_type": "execute_result"
    }
   ],
   "source": [
    "nums1 = [12,24,8,32]\n",
    "nums2 = [13,25,32,11]\n",
    "\n",
    "nums1.sort() # ASC\n",
    "AVL = set(range(len(nums1))) # Available Indexes in NUMS1\n",
    "res = []\n",
    "\n",
    "for v in nums2: # Base Value in nums2\n",
    "\tFND = False\n",
    "\tfor i in AVL: # Find Smallest Greater\n",
    "\t\tif nums1[i] > v:\n",
    "\t\t\tres.append(nums1[i])\n",
    "\t\t\tAVL.remove(i) # Unavailable From Now On\n",
    "\t\t\tFND = True # Mark Found\n",
    "\t\t\tbreak\n",
    "\tif not FND: # Find Smallest Overall\n",
    "\t\ti = list(AVL)[0]\n",
    "\t\tres.append(nums1[i])\n",
    "\t\tAVL.remove(i)\n",
    "\n",
    "res"
   ]
  },
  {
   "cell_type": "code",
   "execution_count": null,
   "metadata": {},
   "outputs": [],
   "source": [
    "nums1 = [12,24,8,32]\n",
    "nums2 = [13,25,32,11]\n",
    "\n",
    "nums1.sort() # ASC\n"
   ]
  },
  {
   "cell_type": "code",
   "execution_count": 7,
   "metadata": {},
   "outputs": [
    {
     "data": {
      "text/plain": [
       "[24, 32, 8, 12]"
      ]
     },
     "execution_count": 7,
     "metadata": {},
     "output_type": "execute_result"
    }
   ],
   "source": [
    "nums1 = [12,24,8,32]\n",
    "nums2 = [13,25,32,11]\n",
    "\n",
    "nums1.sort() # ASC\n",
    "nums2_idx = sorted(list(enumerate(nums2)), key = lambda x: x[1])\n",
    "idx_org, nums2 = [x[0] for x in nums2_index], [x[1] for x in nums2_index]\n",
    "\n",
    "res_sort = []\n",
    "UUD = [] # Unused Index\n",
    "# Two-Pointer\n",
    "p1 = p2 = 0\n",
    "while p1 < len(nums1):\n",
    "\tif nums1[p1] > nums2[p2]: # Exist Greater\n",
    "\t\tres_sort.append(nums1[p1])\n",
    "\t\tp1 += 1 # Move Both\n",
    "\t\tp2 += 1\n",
    "\telse:\n",
    "\t\tUUD.append(p1)\n",
    "\t\tp1 += 1 # Move p1 Only\n",
    "p1 = 0 # Start from 0\n",
    "while p1 < len(UUD):\n",
    "\tres_sort.append(nums1[UUD[p1]])\n",
    "\tp1 += 1\n",
    "\n",
    "res = [0] * len(nums2)\n",
    "for i in range(len(nums2)):\n",
    "\tres[idx_org[i]] = res_sort[i]\n",
    "\n",
    "res"
   ]
  },
  {
   "cell_type": "code",
   "execution_count": 4,
   "metadata": {},
   "outputs": [
    {
     "data": {
      "text/plain": [
       "(4, 3)"
      ]
     },
     "execution_count": 4,
     "metadata": {},
     "output_type": "execute_result"
    }
   ],
   "source": [
    "p1, p2"
   ]
  },
  {
   "cell_type": "code",
   "execution_count": null,
   "metadata": {},
   "outputs": [],
   "source": []
  }
 ],
 "metadata": {
  "kernelspec": {
   "display_name": "Python 3",
   "language": "python",
   "name": "python3"
  },
  "language_info": {
   "codemirror_mode": {
    "name": "ipython",
    "version": 3
   },
   "file_extension": ".py",
   "mimetype": "text/x-python",
   "name": "python",
   "nbconvert_exporter": "python",
   "pygments_lexer": "ipython3",
   "version": "3.11.4"
  },
  "orig_nbformat": 4
 },
 "nbformat": 4,
 "nbformat_minor": 2
}
