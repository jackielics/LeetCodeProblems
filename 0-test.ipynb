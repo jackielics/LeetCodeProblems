{
 "cells": [
  {
   "cell_type": "code",
   "execution_count": 12,
   "metadata": {},
   "outputs": [
    {
     "name": "stdout",
     "output_type": "stream",
     "text": [
      "John\n",
      "Jane\n"
     ]
    }
   ],
   "source": [
    "class MyClass:\n",
    "    def __init__(self):\n",
    "        self.__name = 'John'\n",
    "\n",
    "    def get_name(self):\n",
    "        return self.__name\n",
    "\n",
    "obj = MyClass()\n",
    "\n",
    "# 尝试访问 __name 属性（会出错）\n",
    "# print(obj.__name)  # 报错\n",
    "\n",
    "# 通过名称改编后的方式访问 __name 属性（有效）\n",
    "print(obj._MyClass__name)  # 输出 'John'\n",
    "\n",
    "# 尝试修改 __name 属性（会出错）\n",
    "# obj.__name = 'Jane'  # 报错\n",
    "\n",
    "# 通过名称改编后的方式修改 __name 属性（有效）\n",
    "obj._MyClass__name = 'Jane'\n",
    "\n",
    "# 通过方法获取属性值\n",
    "print(obj.get_name())  # 输出 'Jane'\n"
   ]
  },
  {
   "cell_type": "code",
   "execution_count": null,
   "metadata": {},
   "outputs": [],
   "source": []
  }
 ],
 "metadata": {
  "kernelspec": {
   "display_name": "Python 3",
   "language": "python",
   "name": "python3"
  },
  "language_info": {
   "codemirror_mode": {
    "name": "ipython",
    "version": 3
   },
   "file_extension": ".py",
   "mimetype": "text/x-python",
   "name": "python",
   "nbconvert_exporter": "python",
   "pygments_lexer": "ipython3",
   "version": "3.11.4"
  },
  "orig_nbformat": 4
 },
 "nbformat": 4,
 "nbformat_minor": 2
}
