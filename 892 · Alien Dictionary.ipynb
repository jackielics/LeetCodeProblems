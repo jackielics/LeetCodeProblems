{
 "cells": [
  {
   "cell_type": "markdown",
   "metadata": {},
   "source": [
    "https://www.lintcode.com/problem/892/"
   ]
  },
  {
   "cell_type": "code",
   "execution_count": 6,
   "metadata": {},
   "outputs": [
    {
     "data": {
      "text/plain": [
       "[['w', 'w', 'e', 'e', 'r'],\n",
       " ['r', 'r', 'r', 't', 'f'],\n",
       " ['t', 'f', 't', 't'],\n",
       " ['t']]"
      ]
     },
     "execution_count": 6,
     "metadata": {},
     "output_type": "execute_result"
    }
   ],
   "source": [
    "# 输入：[\"wrt\",\"wrf\",\"er\",\"ett\",\"rftt\"]\n",
    "# 输出：\"wertf\"\n",
    "\n",
    "prior = []\n",
    "words = [\"wrt\",\"wrf\",\"er\",\"ett\",\"rftt\"]\n",
    "max_len = max([len(s) for s in words])\n",
    "\n",
    "for cur in range(max_len):\n",
    "\t# cur: current index being visited start from 0\n",
    "\tround = [] # order in this round\n",
    "\tfor s in words:\n",
    "\t\tif len(s) > cur:\n",
    "\t\t\tround.append(s[cur])\n",
    "\tprior.append(round)\n",
    "prior # "
   ]
  },
  {
   "cell_type": "code",
   "execution_count": null,
   "metadata": {},
   "outputs": [],
   "source": []
  }
 ],
 "metadata": {
  "kernelspec": {
   "display_name": "Python 3",
   "language": "python",
   "name": "python3"
  },
  "language_info": {
   "codemirror_mode": {
    "name": "ipython",
    "version": 3
   },
   "file_extension": ".py",
   "mimetype": "text/x-python",
   "name": "python",
   "nbconvert_exporter": "python",
   "pygments_lexer": "ipython3",
   "version": "3.11.4"
  },
  "orig_nbformat": 4
 },
 "nbformat": 4,
 "nbformat_minor": 2
}
