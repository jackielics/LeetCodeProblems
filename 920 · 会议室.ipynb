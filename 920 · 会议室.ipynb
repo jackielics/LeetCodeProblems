{
 "cells": [
  {
   "cell_type": "code",
   "execution_count": 1,
   "metadata": {},
   "outputs": [
    {
     "data": {
      "text/plain": [
       "[(0, 30), (5, 10), (15, 20)]"
      ]
     },
     "execution_count": 1,
     "metadata": {},
     "output_type": "execute_result"
    }
   ],
   "source": [
    "# https://www.lintcode.com/problem/920/\n",
    "from typing import (\n",
    "    List,\n",
    ")\n",
    "from lintcode import (\n",
    "    Interval,\n",
    ")\n",
    "\n",
    "\"\"\"\n",
    "Definition of Interval:\n",
    "class Interval(object):\n",
    "    def __init__(self, start, end):\n",
    "        self.start = start\n",
    "        self.end = end\n",
    "\"\"\"\n",
    "\n",
    "class Solution:\n",
    "\t\"\"\"\n",
    "\t@param intervals: an array of meeting time intervals\n",
    "\t@return: if a person could attend all meetings\n",
    "\t\"\"\"\n",
    "\tdef can_attend_meetings(self, intervals: List[Interval]) -> bool:\n",
    "\t\t# Write your code here\n",
    "\n",
    "\t\tintervals.sort(key = lambda x: x.start)\n",
    "\t\tcur = 0 # current time start from 0\n",
    "\t\tfor inr in intervals:\n",
    "\t\t\tif inr.start < cur: # conflict\n",
    "\t\t\t\treturn False\n",
    "\t\t\telse:\n",
    "\t\t\t\tcur = inr.end # update current time\n",
    "\n",
    "\t\treturn True"
   ]
  },
  {
   "cell_type": "code",
   "execution_count": null,
   "metadata": {},
   "outputs": [],
   "source": []
  }
 ],
 "metadata": {
  "kernelspec": {
   "display_name": "Python 3",
   "language": "python",
   "name": "python3"
  },
  "language_info": {
   "codemirror_mode": {
    "name": "ipython",
    "version": 3
   },
   "file_extension": ".py",
   "mimetype": "text/x-python",
   "name": "python",
   "nbconvert_exporter": "python",
   "pygments_lexer": "ipython3",
   "version": "3.11.4"
  },
  "orig_nbformat": 4
 },
 "nbformat": 4,
 "nbformat_minor": 2
}
