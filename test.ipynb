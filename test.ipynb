{
 "cells": [
  {
   "cell_type": "code",
   "execution_count": 6,
   "metadata": {},
   "outputs": [
    {
     "name": "stdout",
     "output_type": "stream",
     "text": [
      "args= (1, 'a', None)\n",
      "kwargs= {'a': 1, 'b': '2', 'c': 3}\n",
      "--done--\n"
     ]
    }
   ],
   "source": [
    "def test03(*args,**kwargs):\n",
    "\tprint(\"args=\",args)\n",
    "\tprint(\"kwargs=\",kwargs)\n",
    "\tprint(\"--done--\")\n",
    "test03(1, 'a' ,None,a=1,b='2',c=3)"
   ]
  },
  {
   "cell_type": "code",
   "execution_count": 14,
   "metadata": {},
   "outputs": [
    {
     "data": {
      "text/plain": [
       "[1, 2, -1, 3, 4, 5]"
      ]
     },
     "execution_count": 14,
     "metadata": {},
     "output_type": "execute_result"
    }
   ],
   "source": [
    "arr = [1,-1,2,3,4,5]\n",
    "# list(map( lambda x : abs(x - 5), arr))\n",
    "# sorted(arr)\n",
    "sorted(arr, key = lambda x : abs(1 - x))"
   ]
  },
  {
   "cell_type": "code",
   "execution_count": 24,
   "metadata": {},
   "outputs": [
    {
     "data": {
      "text/plain": [
       "[99]"
      ]
     },
     "execution_count": 24,
     "metadata": {},
     "output_type": "execute_result"
    }
   ],
   "source": [
    "lookup = list(range(1,1+10)) + ([] if 1==0 else [99]) + list(range(1,1+10))\n",
    "list(filter(lambda y : y >= 90, lookup))\n"
   ]
  },
  {
   "cell_type": "code",
   "execution_count": 55,
   "metadata": {},
   "outputs": [
    {
     "data": {
      "text/plain": [
       "[]"
      ]
     },
     "execution_count": 55,
     "metadata": {},
     "output_type": "execute_result"
    }
   ],
   "source": [
    "# 导入bisect_left\n",
    "# from bisect import *\n",
    "# bisect_right([1,1,2,3,4,5], 1)\n",
    "a = [1,1,2,3,4,5]\n",
    "a[-1:0]"
   ]
  },
  {
   "cell_type": "code",
   "execution_count": 60,
   "metadata": {},
   "outputs": [
    {
     "data": {
      "text/plain": [
       "4"
      ]
     },
     "execution_count": 60,
     "metadata": {},
     "output_type": "execute_result"
    }
   ],
   "source": [
    "from bisect import *\n",
    "bisect_left([10,5,2,6], 100)"
   ]
  },
  {
   "cell_type": "code",
   "execution_count": null,
   "metadata": {},
   "outputs": [],
   "source": []
  }
 ],
 "metadata": {
  "kernelspec": {
   "display_name": "Python 3",
   "language": "python",
   "name": "python3"
  },
  "language_info": {
   "codemirror_mode": {
    "name": "ipython",
    "version": 3
   },
   "file_extension": ".py",
   "mimetype": "text/x-python",
   "name": "python",
   "nbconvert_exporter": "python",
   "pygments_lexer": "ipython3",
   "version": "3.8.10"
  },
  "orig_nbformat": 4
 },
 "nbformat": 4,
 "nbformat_minor": 2
}
