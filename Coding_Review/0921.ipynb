{
 "cells": [
  {
   "cell_type": "markdown",
   "metadata": {},
   "source": [
    "现场编程题题目内容：\n",
    "以数组 intervals 表示若干个区间的集合，其中单个区间为 \n",
    "intervals[i] = [starti, endi] 。请你合并所有重叠的区间，\n",
    "并返回 一个不重叠的区间数组，该数组需恰好覆盖输入中的所有区间。\n",
    "输入：intervals = [[1,3],[2,6],[8,10],[15,18]]\n",
    "输出：[[1,6],[8,10],[15,18]]\n",
    "解释：区间 [1,3] 和 [2,6] 重叠, 将它们合并为 [1,6].\n",
    "输入：intervals = [[1,4],[4,5]]\n",
    "输出：[[1,5]]\n",
    "解释：区间 [1,4] 和 [4,5] 可被视为重叠区间。"
   ]
  },
  {
   "cell_type": "code",
   "execution_count": 5,
   "metadata": {},
   "outputs": [
    {
     "data": {
      "text/plain": [
       "[[1, 6], [7, 18]]"
      ]
     },
     "execution_count": 5,
     "metadata": {},
     "output_type": "execute_result"
    }
   ],
   "source": [
    "# intervals = [[1,3],[2,6],[8,10],[15,18]]\n",
    "intervals = [[1,3],[2,6],[8,10],[7,18]]\n",
    "# intervals = [[1,4],[4,5]]\n",
    "# intervals = [[1,4],[4,5]]\n",
    "\n",
    "# 先排序 ASC\n",
    "intervals.sort()\n",
    "res = [] # final result without overlapping\n",
    "\n",
    "\n",
    "L, R = intervals[0][0], intervals[0][1] # 初始值\n",
    "\n",
    "for cur in intervals[1:]:\n",
    "\t# if R exceed cur[0] whatever\n",
    "\tif cur[0] <= R:\n",
    "\t\tR = max(R, cur[1]) # update `r` to max & dont append new elem\n",
    "\t# if R < cur[0]? So append new elem & update both L and R\n",
    "\telse:\n",
    "\t\tres.append([L, R])\n",
    "\t\tL, R = cur[0], cur[1]\n",
    "\n",
    "res.append([L, R]) # \n",
    "\n",
    "res\n"
   ]
  },
  {
   "cell_type": "code",
   "execution_count": 16,
   "metadata": {},
   "outputs": [
    {
     "data": {
      "text/plain": [
       "'str'"
      ]
     },
     "execution_count": 16,
     "metadata": {},
     "output_type": "execute_result"
    }
   ],
   "source": [
    "def func():\n",
    "\treturn ((('str')))\n",
    "\n",
    "func()"
   ]
  },
  {
   "cell_type": "code",
   "execution_count": 21,
   "metadata": {},
   "outputs": [
    {
     "name": "stdout",
     "output_type": "stream",
     "text": [
      "20\n"
     ]
    }
   ],
   "source": [
    "name = 20\n",
    "match name:\n",
    "\tcase 10 | 20 | 30: # if\n",
    "\t\tprint(name)\n",
    "\tcase _: # else\n",
    "\t\tprint('not 10')"
   ]
  },
  {
   "cell_type": "code",
   "execution_count": 22,
   "metadata": {},
   "outputs": [
    {
     "name": "stdout",
     "output_type": "stream",
     "text": [
      "meowmeowmeow"
     ]
    }
   ],
   "source": [
    "print(\"meow\"*3, end=\"\")"
   ]
  }
 ],
 "metadata": {
  "kernelspec": {
   "display_name": "Python 3",
   "language": "python",
   "name": "python3"
  },
  "language_info": {
   "codemirror_mode": {
    "name": "ipython",
    "version": 3
   },
   "file_extension": ".py",
   "mimetype": "text/x-python",
   "name": "python",
   "nbconvert_exporter": "python",
   "pygments_lexer": "ipython3",
   "version": "3.11.4"
  },
  "orig_nbformat": 4
 },
 "nbformat": 4,
 "nbformat_minor": 2
}
