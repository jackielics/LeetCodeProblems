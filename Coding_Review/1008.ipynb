{
 "cells": [
  {
   "cell_type": "markdown",
   "metadata": {},
   "source": [
    "请你为 最不经常使用（LFU）缓存算法设计并实现数据结构。\n",
    "\n",
    "实现 LFUCache 类：\n",
    "\n",
    "LFUCache(int capacity) - 用数据结构的容量 capacity 初始化对象  \n",
    "int get(int key) - 如果键 key 存在于缓存中，则获取键的值，**否则返回 -1** 。  \n",
    "void put(int key, int value) - 如果键 key **已存在，则变更其值**；如果键**不存在，请插入**键值对。  \n",
    "当缓存**达到其容量 capacity** 时，则应该在插入新项之前，**移除最不经常使用的项**。在此问题中，当存在平局（即两个或更多个键具有相同使用频率）时，应该去除 **最久未使用** 的键。 \n",
    "为了确定**最不常使用**的键，可以为缓存中的**每个键**维护一个 **使用计数器** 。使用计数最小的键是最久未使用的键。\n",
    "\n",
    "当一个键**首次**插入到缓存中时，它的使用计数器被设置为 **1** (由于 put 操作)。对缓存中的键执行 **get 或 put** 操作，**使用**计数器的值将会**递增**。\n",
    "\n",
    "函数 get 和 put 必须以 O(1) 的平均时间复杂度运行。"
   ]
  },
  {
   "cell_type": "code",
   "execution_count": 12,
   "metadata": {},
   "outputs": [
    {
     "data": {
      "text/plain": [
       "[(2, {'val': 200, 'sum_cnt': 1, 'last_cnt': 1}),\n",
       " (3, {'val': 300, 'sum_cnt': 1, 'last_cnt': 0})]"
      ]
     },
     "execution_count": 12,
     "metadata": {},
     "output_type": "execute_result"
    }
   ],
   "source": [
    "# Start at 23:00\n",
    "\n",
    "class LFUCache:\n",
    "\n",
    "\tdef __init__(self, capacity: int):\n",
    "\t\t# initialize by capacity\n",
    "\t\tself.capacity = capacity\n",
    "\t\t# sum counter and last counter\n",
    "\t\tself.dic = {} # {key: {val:, sum_cnt:, last_cnt:]}\n",
    "\t\t\n",
    "\t\tself.recorder = [] # sort?\n",
    "\n",
    "\tdef sort_by_cnt(self):\n",
    "\t\tif self.dic: # not empty\n",
    "\t\t\tself.recorder = sorted(self.dic.items(), key = lambda x: (x[1]['sum_cnt'], -x[1]['last_cnt']))\n",
    "\n",
    "\tdef update_lastcnt(self):\n",
    "\t\tfor k in self.dic:\n",
    "\t\t\tself.dic[k]['last_cnt'] += 1\n",
    "\n",
    "\t# easy on O(1) \n",
    "\tdef get(self, key: int) -> int:\n",
    "\t\tif key not in self.dic:\n",
    "\t\t\treturn -1\n",
    "\t\telse:\n",
    "\t\t\tself.update_lastcnt()\n",
    "\t\t\tself.dic[key]['sum_cnt'] += 1 # counter ++\n",
    "\t\t\tself.dic[key]['last_cnt'] = 0\n",
    "\t\t\t# TODO: Adjust Records\n",
    "\t\t\tif len(self.dic) == self.capacity:\n",
    "\t\t\t\tself.sort_by_cnt()\n",
    "\t\t\treturn self.dic[key]['val']\n",
    "\n",
    "\t# hard on O(1) \n",
    "\tdef put(self, key: int, value: int) -> None:\n",
    "\t\t# overload\n",
    "\t\tif len(self.dic) == self.capacity:\n",
    "\t\t\t# drop smallest in O(1), the min counter?\n",
    "\t\t\t# TODO: update counter\n",
    "\t\t\tself.sort_by_cnt()\n",
    "\t\t\tdel self.dic[self.recorder[0][0]]\n",
    "\t\t\tself.sort_by_cnt() # only use when fullload\n",
    "\t\telse:\n",
    "\t\t\t# just add\n",
    "\t\t\tself.update_lastcnt()\n",
    "\t\t\tself.dic[key] = {'val': value, 'sum_cnt': 1, 'last_cnt': 0} # insert\n",
    "\t\t\tself.update_lastcnt()\n",
    "\n",
    "# Your LFUCache object will be instantiated and called as such:\n",
    "obj = LFUCache(2)\n",
    "obj.put(1, 100)\n",
    "obj.put(2, 200)\n",
    "obj.put(3, 300)\n",
    "obj.get(1)\n",
    "obj.recorder\n",
    "\n"
   ]
  },
  {
   "cell_type": "code",
   "execution_count": null,
   "metadata": {},
   "outputs": [],
   "source": []
  }
 ],
 "metadata": {
  "kernelspec": {
   "display_name": "Python 3",
   "language": "python",
   "name": "python3"
  },
  "language_info": {
   "codemirror_mode": {
    "name": "ipython",
    "version": 3
   },
   "file_extension": ".py",
   "mimetype": "text/x-python",
   "name": "python",
   "nbconvert_exporter": "python",
   "pygments_lexer": "ipython3",
   "version": "3.11.4"
  }
 },
 "nbformat": 4,
 "nbformat_minor": 2
}
