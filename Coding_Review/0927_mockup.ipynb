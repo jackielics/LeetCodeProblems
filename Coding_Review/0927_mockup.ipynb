{
 "cells": [
  {
   "cell_type": "markdown",
   "metadata": {},
   "source": [
    "![Alt text](image-7.png)\n",
    "![Alt text](image-8.png)"
   ]
  },
  {
   "cell_type": "markdown",
   "metadata": {},
   "source": [
    "# Intuition\n",
    "\n",
    "# Approach\n",
    "smallest.left = None"
   ]
  },
  {
   "cell_type": "code",
   "execution_count": 10,
   "metadata": {},
   "outputs": [
    {
     "data": {
      "text/plain": [
       "1"
      ]
     },
     "execution_count": 10,
     "metadata": {},
     "output_type": "execute_result"
    }
   ],
   "source": [
    "# Definition for a binary tree node. -> BST\n",
    "class TreeNode:\n",
    "    def __init__(self, val=0, left=None, right=None):\n",
    "        self.val = val\n",
    "        self.left = left\n",
    "        self.right = right\n",
    "\n",
    "class Solution:\n",
    "\tdef kthSmallest(self, root, k: int) -> int:\n",
    "\t\t# start from root and go left until meet smallest of which left is None\n",
    "\t\t# Recurse: root=x th smallest -> left= (x-1)th, right = (x+1)th\n",
    "\t\t# cur: smallest rank of current node\n",
    "\n",
    "\t\t# what if go left? k??? how to find smallest 1st smallest\n",
    "\t\t# self.kthSmallest(self, root.left, )\n",
    "\t\t# what if go right?\n",
    "\t\t# L M R\n",
    "\t\tres = [] # ASC: len == k\n",
    "\t\tdef recurse(cur):\n",
    "\t\t\t# LFET\n",
    "\t\t\tif cur.left:\n",
    "\t\t\t\trecurse(cur.left)\n",
    "\t\t\tif len(res) >= k:\n",
    "\t\t\t\treturn\n",
    "\t\t\t# CUR\n",
    "\t\t\tres.append(cur.val)\n",
    "\t\t\tif len(res) >= k:\n",
    "\t\t\t\treturn\n",
    "\t\t\t# RIGHT\n",
    "\t\t\tif cur.right:\n",
    "\t\t\t\trecurse(cur.right)\n",
    "\t\t\tif len(res) >= k:\n",
    "\t\t\t\treturn\n",
    "\t\t\n",
    "\t\trecurse(root)\n",
    "\t\treturn res[-1]\n",
    "\n",
    "\n",
    "node2 = TreeNode(2)\n",
    "node1 = TreeNode(1, right = node2)\n",
    "node4 = TreeNode(4)\n",
    "node3 = TreeNode(3, left = node1, right = node4)\n",
    "Solution().kthSmallest(node3, 1)"
   ]
  },
  {
   "cell_type": "markdown",
   "metadata": {},
   "source": []
  }
 ],
 "metadata": {
  "kernelspec": {
   "display_name": "Python 3",
   "language": "python",
   "name": "python3"
  },
  "language_info": {
   "codemirror_mode": {
    "name": "ipython",
    "version": 3
   },
   "file_extension": ".py",
   "mimetype": "text/x-python",
   "name": "python",
   "nbconvert_exporter": "python",
   "pygments_lexer": "ipython3",
   "version": "3.11.4"
  },
  "orig_nbformat": 4
 },
 "nbformat": 4,
 "nbformat_minor": 2
}
