{
 "cells": [
  {
   "cell_type": "markdown",
   "metadata": {},
   "source": [
    "![Alt text](image-9.png)"
   ]
  },
  {
   "cell_type": "markdown",
   "metadata": {},
   "source": [
    "# V1"
   ]
  },
  {
   "cell_type": "code",
   "execution_count": 9,
   "metadata": {},
   "outputs": [
    {
     "name": "stdout",
     "output_type": "stream",
     "text": [
      "prices = [7, 1, 5, 3, 6, 4] \t\t output: 5\n",
      "prices = [7, 6, 4, 3, 1] \t\t output: 0\n"
     ]
    }
   ],
   "source": [
    "# Tag:\ttype hint, robust, main()\n",
    "# TODO: docstring format; check generic numeric and iterator\n",
    "def solution(prices:list[int]) -> int:\n",
    "\t'''\n",
    "\tparams\n",
    "\tprices: prices of stock on each day\n",
    "\t\n",
    "\tReturn:max profit possibly earned\n",
    "\trtype:int\n",
    "\t'''\n",
    "\t# Robust\n",
    "\tif not isinstance(prices, (list, tuple)):\n",
    "\t\treturn 'Input not a list or tuple'\n",
    "\n",
    "\t# Greedy Strategy\n",
    "\tmax_profit = 0 # min max profit will be 0(no trading)\n",
    "\tlowest = float('inf') # lowest price up until now\n",
    "\tfor price in prices:\n",
    "\t\tif not isinstance(price, (int, float)):\n",
    "\t\t\treturn 'Elements must be int or float'\n",
    "\t\tlowest = min(lowest, price) # update `lowest`\n",
    "\t\tmax_profit = max(max_profit, price - lowest) # update `profit`\n",
    "\treturn max_profit\n",
    "\n",
    "def main():\n",
    "\tprint('prices = [7, 1, 5, 3, 6, 4] \\t\\t output:', solution([7, 1, 5, 3, 6, 4]))\n",
    "\tprint('prices = [7, 6, 4, 3, 1] \\t\\t output:', solution([7, 6, 4, 3, 1]))\n",
    "\n",
    "if __name__ == '__main__':\n",
    "\tmain()"
   ]
  },
  {
   "cell_type": "markdown",
   "metadata": {},
   "source": [
    "# V2"
   ]
  },
  {
   "cell_type": "code",
   "execution_count": 33,
   "metadata": {},
   "outputs": [
    {
     "name": "stdout",
     "output_type": "stream",
     "text": [
      "prices = [7, 1, 5, 3, 6, 4] \t\t output: 5\n",
      "prices = [7, 6, 4, 3, 1] \t\t output: 0\n"
     ]
    }
   ],
   "source": [
    "# Tag:\ttype hint, robust, main(), reST\n",
    "def is_iterable(obj) -> bool:\n",
    "\ttry:\n",
    "\t\titer(obj)\n",
    "\t\treturn True\n",
    "\texcept:\n",
    "\t\treturn False\n",
    "\n",
    "def solution(prices:list[int]) -> int:\n",
    "\t\"\"\"Return max profit earned\n",
    "\t\n",
    "\tMaximize profit in a single transaction\n",
    "\n",
    "\t:param prices: prices of stock on each day\n",
    "\t:type prices: list[int]\n",
    "\t:returns max_profit: max profit earned \n",
    "\t:rtype: int\n",
    "\t\"\"\"\n",
    "\t# Robust\n",
    "\tif not isinstance(prices, (list, tuple)):\n",
    "\t\treturn 'Input not a list or tuple'\n",
    "\n",
    "\t# Greedy Strategy\n",
    "\tmax_profit = 0 # min max profit will be 0(no trading)\n",
    "\tlowest = float('inf') # lowest price up until now\n",
    "\tfor price in prices:\n",
    "\t\tif not isinstance(price, (int, float, complex)):\n",
    "\t\t\treturn 'Elements must be int or float'\n",
    "\t\tlowest = min(lowest, price) # update `lowest`\n",
    "\t\tmax_profit = max(max_profit, price - lowest) # update `profit`\n",
    "\treturn max_profit\n",
    "\n",
    "def main():\n",
    "\tprint('prices = [7, 1, 5, 3, 6, 4] \\t\\t output:', solution([7, 1, 5, 3, 6, 4]))\n",
    "\tprint('prices = [7, 6, 4, 3, 1] \\t\\t output:', solution([7, 6, 4, 3, 1]))\n",
    "\n",
    "if __name__ == '__main__':\n",
    "\tmain()"
   ]
  }
 ],
 "metadata": {
  "kernelspec": {
   "display_name": "Python 3",
   "language": "python",
   "name": "python3"
  },
  "language_info": {
   "codemirror_mode": {
    "name": "ipython",
    "version": 3
   },
   "file_extension": ".py",
   "mimetype": "text/x-python",
   "name": "python",
   "nbconvert_exporter": "python",
   "pygments_lexer": "ipython3",
   "version": "3.11.4"
  },
  "orig_nbformat": 4
 },
 "nbformat": 4,
 "nbformat_minor": 2
}
