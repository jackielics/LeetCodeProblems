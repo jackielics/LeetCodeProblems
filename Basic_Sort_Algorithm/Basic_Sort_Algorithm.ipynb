{
 "cells": [
  {
   "cell_type": "markdown",
   "metadata": {},
   "source": [
    "https://youtube.com/playlist?list=PLj8W7XIvO93rJHSYzkk7CgfiLQRUEC2Sq&si=53p9CfDf0LHWhLYL"
   ]
  },
  {
   "cell_type": "markdown",
   "metadata": {},
   "source": [
    "# Bubble Sort\n",
    "put biggest at last\n",
    "![](http://images2017.cnblogs.com/blog/849589/201710/849589-20171015223238449-2146169197.gif)"
   ]
  },
  {
   "cell_type": "code",
   "execution_count": null,
   "metadata": {},
   "outputs": [
    {
     "data": {
      "text/plain": [
       "[0, 1, 2, 3, 5]"
      ]
     },
     "metadata": {},
     "output_type": "display_data"
    }
   ],
   "source": [
    "def bubble_sort(nums: list[int]) -> list[int]:\n",
    "\tfor winIdx in range(len(nums) - 1, 0, -1): # [len(nums) - 1, 1]\n",
    "\t\tsorted = True\n",
    "\t\tfor cur in range(winIdx): # [0,curIdx-1]\n",
    "\t\t\tif nums[cur] > nums[cur + 1]:\n",
    "\t\t\t\tnums[cur], nums[cur + 1] = nums[cur + 1], nums[cur]\n",
    "\t\t\t\tsorted = False\n",
    "\t\tif sorted: # Already Sorted\n",
    "\t\t\tbreak\n",
    "\treturn nums\n",
    "\n",
    "bubble_sort([5,2,0,3,1])"
   ]
  },
  {
   "cell_type": "markdown",
   "metadata": {},
   "source": [
    "# Quick Sort\n",
    "backtrack devide into three parts 1. <pivot, 2. =pivot, 3. >pivot\n",
    "![](http://images2017.cnblogs.com/blog/849589/201710/849589-20171015230936371-1413523412.gif)"
   ]
  },
  {
   "cell_type": "code",
   "execution_count": null,
   "metadata": {},
   "outputs": [
    {
     "name": "stdout",
     "output_type": "stream",
     "text": [
      "[3, 9, 10, 27, 38, 43, 82]\n"
     ]
    }
   ],
   "source": [
    "def quick_sort(arr):\n",
    "\tif len(arr) <= 1: # Exit\n",
    "\t\treturn arr\n",
    "\n",
    "\tpivot = arr[len(arr)//2]  # Select a pivot element\n",
    "\tleft, right, middle = [], [], []\n",
    "\tfor x in arr:\n",
    "\t\tif x < pivot:\n",
    "\t\t\tleft.append(x)\n",
    "\t\telif x > pivot:\n",
    "\t\t\tright.append(x)\n",
    "\t\telse:\n",
    "\t\t\tmiddle.append(x)\n",
    "\n",
    "\treturn quick_sort(left) + middle + quick_sort(right)\n",
    "\n",
    "# 测试\n",
    "arr = [38, 27, 43, 3, 9, 82, 10]\n",
    "sorted_arr = quick_sort(arr)\n",
    "print(sorted_arr)\n"
   ]
  },
  {
   "cell_type": "markdown",
   "metadata": {},
   "source": [
    "# Insertion Sort\n",
    "$$\n",
    "O(N^2)\n",
    "$$\n",
    "![动图](http://images2017.cnblogs.com/blog/849589/201710/849589-20171015225645277-1151100000.gif)"
   ]
  },
  {
   "cell_type": "code",
   "execution_count": null,
   "metadata": {},
   "outputs": [
    {
     "data": {
      "text/plain": [
       "[0, 1, 2, 3, 5]"
      ]
     },
     "execution_count": 24,
     "metadata": {},
     "output_type": "execute_result"
    }
   ],
   "source": [
    "def insertion_sort0(nums: list[int]) -> list[int]:\n",
    "\t'''Nested for loop insertion sort'''\n",
    "\tfor winIdx in range(1, len(nums)):\n",
    "\t\tfor curIdx in range(winIdx - 1, -1, -1): # [0, cur-1]\n",
    "\t\t\tif nums[curIdx] > nums[winIdx]:\n",
    "\t\t\t\tnums[curIdx], nums[curIdx + 1] = nums[curIdx + 1], nums[curIdx] # Swap\n",
    "\t\t\telse: # Stop at right place\n",
    "\t\t\t\tbreak\n",
    "\treturn nums\n",
    "\n",
    "def insertion_sort1(nums: list[int]) -> list[int]:\n",
    "\t'''While loop insertion sort'''\n",
    "\tfor cur in range(1, len(nums)):\n",
    "\t\ti = cur - 1\n",
    "\t\twhile i >= 0 and nums[i] > nums[cur]:\n",
    "\t\t\tnums[i], nums[i + 1] = nums[i + 1], nums[i] # Swap\n",
    "\t\t\ti -= 1\n",
    "\treturn nums\n",
    "\n",
    "def insertion_sort2(nums: list[int]) -> list[int]:\n",
    "\t'''While loop insertion sort'''\n",
    "\tfor cur in range(1, len(nums)):\n",
    "\t\ti = cur - 1\n",
    "\t\tcurValue = nums[cur] # store current value\n",
    "\t\twhile i >= 0 and nums[i] > curValue:\n",
    "\t\t\tnums[i + 1] = nums[i] # Shift not Swap\n",
    "\t\t\ti -= 1\n",
    "\t\tnums[i + 1] = curValue\n",
    "\treturn nums\n",
    "\n",
    "insertion_sort2([5,2,0,3,1])\n",
    "# insertion_sort2([-4,-9,0,2,18])"
   ]
  },
  {
   "cell_type": "markdown",
   "metadata": {},
   "source": [
    "# Selection Sort\n",
    "select the smallest at first\n",
    "![](http://images2017.cnblogs.com/blog/849589/201710/849589-20171015224719590-1433219824.gif)"
   ]
  },
  {
   "cell_type": "code",
   "execution_count": null,
   "metadata": {},
   "outputs": [
    {
     "data": {
      "text/plain": [
       "[-9, -4, 0, 2, 18]"
      ]
     },
     "execution_count": 25,
     "metadata": {},
     "output_type": "execute_result"
    }
   ],
   "source": [
    "def selection_sort(nums: list[int]) -> list[int]:\n",
    "\tfor winIdx in range(len(nums)):\n",
    "\t\tminIdx = winIdx\n",
    "\t\tfor cur in range(winIdx, len(nums)):\n",
    "\t\t\tif nums[cur] < nums[minIdx]:\n",
    "\t\t\t\tminIdx = cur\n",
    "\t\tnums[winIdx], nums[minIdx] = nums[minIdx], nums[winIdx]\n",
    "\n",
    "\treturn nums\n",
    "\n",
    "selection_sort([5,2,0,3,1])\n",
    "selection_sort([-4,-9,0,2,18])"
   ]
  },
  {
   "cell_type": "markdown",
   "metadata": {},
   "source": [
    "# Merge Sort\n",
    "backtrack devide into Two parts and sort them merge into one\n",
    "\n",
    "![](http://images2017.cnblogs.com/blog/849589/201710/849589-20171015230557043-37375010.gif)"
   ]
  },
  {
   "cell_type": "code",
   "execution_count": 19,
   "metadata": {},
   "outputs": [
    {
     "data": {
      "text/plain": [
       "[3, 9, 10, 27, 38, 43, 82]"
      ]
     },
     "execution_count": 19,
     "metadata": {},
     "output_type": "execute_result"
    }
   ],
   "source": [
    "def merge_sort(arr):\n",
    "    if len(arr) <= 1:\n",
    "        return arr\n",
    "    \n",
    "    left, right = merge_sort(arr[:len(arr)//2]), merge_sort(arr[len(arr)//2:])\n",
    "    return merge(left, right)\n",
    "\n",
    "def merge(left, right):\n",
    "    i = j = 0\n",
    "    res = []\n",
    "    while i < len(left) and j < len(right):\n",
    "        if left[i] <= right[j]:\n",
    "            res.append(left[i])\n",
    "            i += 1\n",
    "        elif left[i] > right[j]:\n",
    "            res.append(right[j])\n",
    "            j += 1\n",
    "    if i < len(left):\n",
    "        res.extend(left[i:])\n",
    "    elif j < len(right):\n",
    "        res.extend(right[j:])\n",
    "\n",
    "    return res\n",
    "\n",
    "arr = [38, 27, 43, 3, 9, 82, 10]\n",
    "merge_sort(arr)"
   ]
  },
  {
   "cell_type": "code",
   "execution_count": null,
   "metadata": {},
   "outputs": [
    {
     "data": {
      "text/plain": [
       "[3, 9, 10, 27, 38, 43, 82]"
      ]
     },
     "execution_count": 16,
     "metadata": {},
     "output_type": "execute_result"
    }
   ],
   "source": [
    "def merge_sort(arr):\n",
    "\tif len(arr) <= 1:\n",
    "\t\treturn arr\n",
    "\n",
    "\t# Divide the array in half\n",
    "\t# Sort the left and right halves\n",
    "\tleft, right = merge_sort(arr[:len(arr)//2]), merge_sort(arr[len(arr)//2:])\n",
    "\n",
    "\n",
    "\t# Merge the sorted left and right halves\n",
    "\treturn merge(left, right)\n",
    "\n",
    "def merge(left, right):\n",
    "\tresult = []\n",
    "\ti = j = 0\n",
    "\t\n",
    "\twhile i < len(left) and j < len(right):\n",
    "\t\tif left[i] < right[j]:\n",
    "\t\t\tresult.append(left[i])\n",
    "\t\t\ti += 1\n",
    "\t\telse:\n",
    "\t\t\tresult.append(right[j])\n",
    "\t\t\tj += 1\n",
    "\n",
    "\t# Add the remaining elements to the result\n",
    "\tresult.extend(left[i:])\n",
    "\tresult.extend(right[j:])\n",
    "\n",
    "\treturn result\n",
    "\n",
    "# 测试\n",
    "arr = [38, 27, 43, 3, 9, 82, 10]\n",
    "merge_sort(arr)"
   ]
  }
 ],
 "metadata": {
  "kernelspec": {
   "display_name": "Python 3",
   "language": "python",
   "name": "python3"
  },
  "language_info": {
   "codemirror_mode": {
    "name": "ipython",
    "version": 3
   },
   "file_extension": ".py",
   "mimetype": "text/x-python",
   "name": "python",
   "nbconvert_exporter": "python",
   "pygments_lexer": "ipython3",
   "version": "3.13.5"
  },
  "orig_nbformat": 4
 },
 "nbformat": 4,
 "nbformat_minor": 2
}
