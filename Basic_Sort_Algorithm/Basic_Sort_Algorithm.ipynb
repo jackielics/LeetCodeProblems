{
 "cells": [
  {
   "cell_type": "markdown",
   "metadata": {},
   "source": [
    "https://youtube.com/playlist?list=PLj8W7XIvO93rJHSYzkk7CgfiLQRUEC2Sq&si=53p9CfDf0LHWhLYL"
   ]
  },
  {
   "cell_type": "markdown",
   "metadata": {},
   "source": [
    "# Insertion Sort"
   ]
  },
  {
   "cell_type": "code",
   "execution_count": 24,
   "metadata": {},
   "outputs": [
    {
     "data": {
      "text/plain": [
       "[0, 1, 2, 3, 5]"
      ]
     },
     "execution_count": 24,
     "metadata": {},
     "output_type": "execute_result"
    }
   ],
   "source": [
    "def insertion_sort0(nums: list[int]) -> list[int]:\n",
    "\t'''Nested for loop insertion sort'''\n",
    "\tfor cur in range(1, len(nums)):\n",
    "\t\tfor i in range(cur - 1, -1, -1): # [0, cur-1]\n",
    "\t\t\tif nums[i] > nums[cur]:\n",
    "\t\t\t\tnums[i], nums[i + 1] = nums[i + 1], nums[i] # Swap\n",
    "\t\t\telse:\n",
    "\t\t\t\tbreak\n",
    "\treturn nums\n",
    "\n",
    "def insertion_sort1(nums: list[int]) -> list[int]:\n",
    "\t'''While loop insertion sort'''\n",
    "\tfor cur in range(1, len(nums)):\n",
    "\t\ti = cur - 1\n",
    "\t\twhile i >= 0 and nums[i] > nums[cur]:\n",
    "\t\t\tnums[i], nums[i + 1] = nums[i + 1], nums[i] # Swap\n",
    "\t\t\ti -= 1\n",
    "\treturn nums\n",
    "\n",
    "def insertion_sort2(nums: list[int]) -> list[int]:\n",
    "\t'''While loop insertion sort'''\n",
    "\tfor cur in range(1, len(nums)):\n",
    "\t\ti = cur - 1\n",
    "\t\tcurValue = nums[cur] # store current value\n",
    "\t\twhile i >= 0 and nums[i] > curValue:\n",
    "\t\t\tnums[i + 1] = nums[i] # Shift not Swap\n",
    "\t\t\ti -= 1\n",
    "\t\tnums[i + 1] = curValue\n",
    "\treturn nums\n",
    "\n",
    "insertion_sort2([5,2,0,3,1])\n",
    "# insertion_sort2([-4,-9,0,2,18])"
   ]
  },
  {
   "cell_type": "markdown",
   "metadata": {},
   "source": [
    "# Selection Sort"
   ]
  },
  {
   "cell_type": "code",
   "execution_count": 25,
   "metadata": {},
   "outputs": [
    {
     "data": {
      "text/plain": [
       "[-9, -4, 0, 2, 18]"
      ]
     },
     "execution_count": 25,
     "metadata": {},
     "output_type": "execute_result"
    }
   ],
   "source": [
    "def selection_sort(nums: list[int]) -> list[int]:\n",
    "\tfor cur in range(len(nums)):\n",
    "\t\tminIndex = cur\n",
    "\t\tfor i in range(cur, len(nums)):\n",
    "\t\t\tif nums[i] < nums[minIndex]:\n",
    "\t\t\t\tminIndex = i\n",
    "\t\tnums[cur], nums[minIndex] = nums[minIndex], nums[cur]\n",
    "\t\t\n",
    "\treturn nums\n",
    "\n",
    "selection_sort([5,2,0,3,1])\n",
    "selection_sort([-4,-9,0,2,18])"
   ]
  },
  {
   "cell_type": "markdown",
   "metadata": {},
   "source": [
    "# Bubble Sort"
   ]
  },
  {
   "cell_type": "code",
   "execution_count": 32,
   "metadata": {},
   "outputs": [
    {
     "data": {
      "text/plain": [
       "[0, 1, 2, 3, 5]"
      ]
     },
     "execution_count": 32,
     "metadata": {},
     "output_type": "execute_result"
    }
   ],
   "source": [
    "def bubble_sort(nums: list[int]) -> list[int]:\n",
    "\tfor cur in range(len(nums) - 1, 0, -1):\n",
    "\t\tsorted = True\n",
    "\t\tfor i in range(cur):\n",
    "\t\t\tif nums[i] > nums[i + 1]:\n",
    "\t\t\t\tnums[i], nums[i + 1] = nums[i + 1], nums[i]\n",
    "\t\t\t\tsorted = False\n",
    "\t\tif sorted: # Already Sorted\n",
    "\t\t\tbreak\n",
    "\treturn nums\n",
    "\n",
    "bubble_sort([5,2,0,3,1])\n",
    "# bubble_sort([-4,-9,0,2,18])"
   ]
  },
  {
   "cell_type": "markdown",
   "metadata": {},
   "source": [
    "# Merge Sort"
   ]
  },
  {
   "cell_type": "code",
   "execution_count": 38,
   "metadata": {},
   "outputs": [
    {
     "data": {
      "text/plain": [
       "[3, 9, 10, 27, 38, 43, 82]"
      ]
     },
     "execution_count": 38,
     "metadata": {},
     "output_type": "execute_result"
    }
   ],
   "source": [
    "def merge_sort(arr):\n",
    "\tif len(arr) <= 1:\n",
    "\t\treturn arr\n",
    "\n",
    "\t# Divide the array in half\n",
    "\tmid = len(arr) // 2\n",
    "\tleft = arr[:mid]\n",
    "\tright = arr[mid:]\n",
    "\n",
    "\t# Sort the left and right halves\n",
    "\tleft = merge_sort(left)\n",
    "\tright = merge_sort(right)\n",
    "\n",
    "\t# Merge the sorted left and right halves\n",
    "\treturn merge(left, right)\n",
    "\n",
    "def merge(left, right):\n",
    "\tresult = []\n",
    "\ti = j = 0\n",
    "\t\n",
    "\twhile i < len(left) and j < len(right):\n",
    "\t\tif left[i] < right[j]:\n",
    "\t\t\tresult.append(left[i])\n",
    "\t\t\ti += 1\n",
    "\t\telse:\n",
    "\t\t\tresult.append(right[j])\n",
    "\t\t\tj += 1\n",
    "\n",
    "\t# Add the remaining elements to the result\n",
    "\tresult.extend(left[i:])\n",
    "\tresult.extend(right[j:])\n",
    "\n",
    "\treturn result\n",
    "\n",
    "# 测试\n",
    "arr = [38, 27, 43, 3, 9, 82, 10]\n",
    "merge_sort(arr)"
   ]
  },
  {
   "cell_type": "markdown",
   "metadata": {},
   "source": [
    "# Quick Sort"
   ]
  },
  {
   "cell_type": "code",
   "execution_count": 40,
   "metadata": {},
   "outputs": [
    {
     "name": "stdout",
     "output_type": "stream",
     "text": [
      "[3, 9, 10, 27, 38, 43, 82]\n"
     ]
    }
   ],
   "source": [
    "def quick_sort(arr):\n",
    "\tif len(arr) <= 1:\n",
    "\t\treturn arr\n",
    "\n",
    "\tpivot = arr[len(arr)//2]  # Select a pivot element\n",
    "\tleft, right, middle = [], [], []\n",
    "\tfor x in arr:\n",
    "\t\tif x < pivot:\n",
    "\t\t\tleft.append(x)\n",
    "\t\telif x > pivot:\n",
    "\t\t\tright.append(x)\n",
    "\t\telse:\n",
    "\t\t\tmiddle.append(x)\n",
    "\n",
    "\treturn quick_sort(left) + middle + quick_sort(right)\n",
    "\n",
    "# 测试\n",
    "arr = [38, 27, 43, 3, 9, 82, 10]\n",
    "sorted_arr = quick_sort(arr)\n",
    "print(sorted_arr)\n"
   ]
  }
 ],
 "metadata": {
  "kernelspec": {
   "display_name": "Python 3",
   "language": "python",
   "name": "python3"
  },
  "language_info": {
   "codemirror_mode": {
    "name": "ipython",
    "version": 3
   },
   "file_extension": ".py",
   "mimetype": "text/x-python",
   "name": "python",
   "nbconvert_exporter": "python",
   "pygments_lexer": "ipython3",
   "version": "3.11.4"
  },
  "orig_nbformat": 4
 },
 "nbformat": 4,
 "nbformat_minor": 2
}
