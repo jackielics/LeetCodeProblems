{
 "cells": [
  {
   "cell_type": "markdown",
   "metadata": {},
   "source": [
    "# Topic\n",
    "🤐Python3🐴🦓Two Approaches: .index() or Bianry Search🎫"
   ]
  },
  {
   "cell_type": "markdown",
   "metadata": {},
   "source": [
    "# Intuition\n",
    ".index() or Bianry Search\n",
    "\n",
    "# Approach\n",
    "1. take LIST.index() as a shortcut.\n",
    "2. Bianry search and tricky method to calc average.\n",
    "\n",
    "# Complexity\n",
    "- Time complexity:\n",
    "$$O(logn)$$\n",
    "\n",
    "- Space complexity:\n",
    "$$O(1)$$\n",
    "\n",
    "# Code\n",
    "```python\n",
    "class Solution:\n",
    "\tdef search0(self, nums: List[int], target: int) -> int:\n",
    "\t\t'''\n",
    "\t\tMy Solution0: take a shortcut: LIST.index()\n",
    "\t\tTime Complexity: O(n)\n",
    "\t\t'''\n",
    "\t\ttry:\n",
    "\t\t\treturn nums.index(target)\n",
    "\t\texcept Exception as e:\n",
    "\t\t\treturn -1\n",
    "\t\t\n",
    "\tdef search1(self, nums: List[int], target: int) -> int:\n",
    "\t\t'''\n",
    "\t\tMy Solution1: Binary Search, tricky method to calc average\n",
    "\t\tTime Complexity: O(logn)\n",
    "\t\t'''\n",
    "\t\tl, r = 0, len(nums) - 1 # n在 [1, 10000]之间\n",
    "\t\twhile l <= r:\n",
    "\t\t\t# m = (l + r) // 2 # may-overflow\n",
    "\t\t\tm = l + (r - l) // 2 # Tricky! Non-overflow\n",
    "\t\t\tif nums[m] == target:\n",
    "\t\t\t\treturn m\n",
    "\t\t\telif nums[m] > target:\n",
    "\t\t\t\tr = m - 1\n",
    "\t\t\telse:\n",
    "\t\t\t\tl = m + 1\n",
    "\t\treturn -1\n",
    "```"
   ]
  }
 ],
 "metadata": {
  "language_info": {
   "name": "python"
  },
  "orig_nbformat": 4
 },
 "nbformat": 4,
 "nbformat_minor": 2
}
