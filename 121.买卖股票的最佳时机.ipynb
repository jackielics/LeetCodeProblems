{
 "cells": [
  {
   "cell_type": "markdown",
   "metadata": {},
   "source": [
    "# Topic\n",
    "🤫Python3🆒🥇🎇"
   ]
  },
  {
   "cell_type": "markdown",
   "metadata": {},
   "source": [
    "# Intuition\n",
    "DP\n",
    "\n",
    "# Approach\n",
    "update min-price and max-profit(dp[i]) so far\n",
    "\n",
    "# Complexity\n",
    "- Time complexity:\n",
    "$$O(n)$$\n",
    "\n",
    "- Space complexity:\n",
    "$$O(1)$$\n",
    "\n",
    "# Code\n",
    "```python\n",
    "class Solution:\n",
    "\tdef maxProfit0(self, prices: List[int]) -> int:\n",
    "\t\t'''\n",
    "\t\tMy Solution: just loop but similiar to DP\n",
    "\t\tTime Complexity: O(n)\n",
    "\t\tSpace Complexity: O(1)\n",
    "\t\t'''\n",
    "\t\tres = 0\n",
    "\t\t# 1 <= prices.length\n",
    "\t\tminP = prices[0] # min price so far\n",
    "\t\t# For each num, find previous less than it\n",
    "\t\tfor price in prices[1:]:\n",
    "\t\t\tprofit = price - minP\n",
    "\t\t\tminP = min(minP, price) # update min Price so far\n",
    "\t\t\tres = max(res, profit) # update max profit so far\n",
    "\t\treturn res\n",
    "\t\n",
    "\tdef maxProfit1(self, prices: List[int]) -> int:\n",
    "\t\t'''\n",
    "\t\tMaster's Solution: Dynamic Programming\n",
    "\t\tTime Complexity: O(n)\n",
    "\t\tSpace Complexity: O(n)\n",
    "\t\t'''\n",
    "\t\tdp = [0] * len(prices) # states info\n",
    "\t\tminP = prices[0]\n",
    "\n",
    "\t\tfor i in range(1, len(prices)):\n",
    "\t\t\tminP = min(minP, prices[i])\n",
    "\t\t\tdp[i] = max(dp[i - 1], prices[i] - minP)\n",
    "\n",
    "\t\treturn dp[-1]\n",
    "```"
   ]
  }
 ],
 "metadata": {
  "language_info": {
   "name": "python"
  },
  "orig_nbformat": 4
 },
 "nbformat": 4,
 "nbformat_minor": 2
}
