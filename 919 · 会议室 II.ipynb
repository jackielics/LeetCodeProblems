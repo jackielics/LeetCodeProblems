{
 "cells": [
  {
   "cell_type": "code",
   "execution_count": 4,
   "metadata": {},
   "outputs": [
    {
     "data": {
      "text/plain": [
       "2"
      ]
     },
     "execution_count": 4,
     "metadata": {},
     "output_type": "execute_result"
    }
   ],
   "source": [
    "# https://www.lintcode.com/problem/919/\n",
    "\n",
    "\"\"\"\n",
    "Definition of Interval:\n",
    "class Interval(object):\n",
    "    def __init__(self, start, end):\n",
    "        self.start = start\n",
    "        self.end = end\n",
    "\"\"\"\n",
    "\n",
    "intervals = [(0,30),(5,10),(15,20)]\n",
    "\n",
    "# sort starting and ending time separately\n",
    "start = sorted([x.start for x in intervals])\n",
    "end = sorted([x.end for x in intervals])\n",
    "\n",
    "count, maxCount = 0, 0\n",
    "i1, i2 = 0, 0\n",
    "# `start` will reach end before `end`\n",
    "while i1 < len(start):\n",
    "\t# when starting of new meeting is earlier than ending of earliest meeting\n",
    "\tif start[i1] < end[i2]:\n",
    "\t\tcount += 1 # Add room\n",
    "\t\tmaxCount = max(maxCount, count)\n",
    "\t\ti1 += 1 # move pointer when starting new\n",
    "\telse:\n",
    "\t\tcount -= 1 # reduce room\n",
    "\t\ti2 += 1 # move pointer when ending old\n",
    "\n",
    "maxCount"
   ]
  },
  {
   "cell_type": "code",
   "execution_count": null,
   "metadata": {},
   "outputs": [],
   "source": [
    "def minMeetingRooms(self, intervals: List[List[int]]) -> int:\n",
    "\t'''\n",
    "\tsort all points of time regardless of start or end\n",
    "\t'''\n",
    "\ttime = [] # point of time\n",
    "\tfor start, end in intervals:\n",
    "\t\ttime.append((start, 1)) # if start add a new room\n",
    "\t\ttime.append((end, -1)) # if end remove an old room\n",
    "\t# sort all points of time regardless of start or end\n",
    "\ttime.sort(key=lambda x: (x[0], x[1]))\n",
    "\t\n",
    "\tcount = 0\n",
    "\tmax_count = 0\n",
    "\tfor t in time:\n",
    "\t\tcount += t[1]\n",
    "\t\tmax_count = max(max_count, count)\n",
    "\treturn max_count\n"
   ]
  }
 ],
 "metadata": {
  "language_info": {
   "name": "python"
  },
  "orig_nbformat": 4
 },
 "nbformat": 4,
 "nbformat_minor": 2
}
