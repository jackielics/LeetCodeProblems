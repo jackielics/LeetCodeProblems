{
 "cells": [
  {
   "cell_type": "markdown",
   "metadata": {},
   "source": [
    "# Topic\n",
    "😵Python3🎺🏳️Two Approaches: filter & [::]🎹"
   ]
  },
  {
   "cell_type": "markdown",
   "metadata": {},
   "source": [
    "# Intuition\n",
    "filter() and [::step]\n",
    "\n",
    "# Approach\n",
    "1. use filter() to filter out non-alphanumeric \n",
    "2. use [::step] or two-pointers to compare from two ends\n",
    "\n",
    "# Complexity\n",
    "- Time complexity:\n",
    "$$O(n)$$\n",
    "\n",
    "- Space complexity:\n",
    "$$O(n)$$\n",
    "\n",
    "# Code\n",
    "```python\n",
    "class Solution:\n",
    "\tdef isPalindrome0(self, s: str) -> bool:\n",
    "\t\t'''\n",
    "\t\tMy Solution0: 0. filter out non-alphanumeric characters 2. compare with reversed string\n",
    "\t\t'''\n",
    "\t\tsf = ''.join(filter(str.isalnum, s.lower()))\n",
    "\t\treturn sf == sf[::-1]\n",
    "\n",
    "\tdef isPalindrome1(self, s: str) -> bool:\n",
    "\t\t'''\n",
    "\t\tMy Solution1: two pointers\n",
    "\t\t'''\n",
    "\t\tsf = ''.join(filter(str.isalnum, s.lower()))\n",
    "\t\tl, r = 0, len(sf) - 1\n",
    "\t\twhile l < r:\n",
    "\t\t\tif sf[l] != sf[r]:\n",
    "\t\t\t\treturn False\n",
    "\t\t\tl += 1\n",
    "\t\t\tr -= 1\n",
    "\t\treturn True\n",
    "```"
   ]
  }
 ],
 "metadata": {
  "language_info": {
   "name": "python"
  },
  "orig_nbformat": 4
 },
 "nbformat": 4,
 "nbformat_minor": 2
}
